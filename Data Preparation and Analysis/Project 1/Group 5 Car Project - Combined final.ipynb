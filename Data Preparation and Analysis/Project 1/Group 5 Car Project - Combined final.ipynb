{
 "cells": [
  {
   "cell_type": "code",
   "execution_count": 2,
   "id": "6953fba5",
   "metadata": {},
   "outputs": [],
   "source": [
    "import pandas as pd\n",
    "import numpy as np \n",
    "import matplotlib.pyplot as plt\n",
    "import seaborn as sns\n",
    "import warnings\n",
    "warnings.filterwarnings('ignore')"
   ]
  },
  {
   "cell_type": "markdown",
   "id": "484a2ce5",
   "metadata": {},
   "source": [
    "---\n",
    "# Car project Group 5\n",
    "Group 5 Members:\n",
    "-  Gabriel Rodriguez\n",
    "-  Qi Zhang\n",
    "-  Caitlin Klukas\n",
    "-  Mugdha Dixit\n",
    "---\n",
    "# Overall data set summary"
   ]
  },
  {
   "cell_type": "code",
   "execution_count": 3,
   "id": "007f6532",
   "metadata": {},
   "outputs": [
    {
     "name": "stdout",
     "output_type": "stream",
     "text": [
      "<class 'pandas.core.frame.DataFrame'>\n",
      "RangeIndex: 4340 entries, 0 to 4339\n",
      "Data columns (total 9 columns):\n",
      " #   Column         Non-Null Count  Dtype \n",
      "---  ------         --------------  ----- \n",
      " 0   name           4340 non-null   object\n",
      " 1   year           4340 non-null   int64 \n",
      " 2   selling_price  4340 non-null   int64 \n",
      " 3   km_driven      4340 non-null   int64 \n",
      " 4   fuel           4340 non-null   object\n",
      " 5   seller_type    4340 non-null   object\n",
      " 6   transmission   4340 non-null   object\n",
      " 7   owner          4340 non-null   object\n",
      " 8   make           4340 non-null   object\n",
      "dtypes: int64(3), object(6)\n",
      "memory usage: 305.3+ KB\n"
     ]
    }
   ],
   "source": [
    "df_cars = pd.read_csv(\"CAR DETAILS FROM CAR DEKHO.csv\")\n",
    "df_cars[\"make\"] = df_cars.name.apply(lambda x : ' '.join(x.split(' ')[:1]))\n",
    "df_cars.columns\n",
    "df_cars.info()"
   ]
  },
  {
   "cell_type": "code",
   "execution_count": 73,
   "id": "4e87b7a6",
   "metadata": {},
   "outputs": [
    {
     "data": {
      "text/html": [
       "<div>\n",
       "<style scoped>\n",
       "    .dataframe tbody tr th:only-of-type {\n",
       "        vertical-align: middle;\n",
       "    }\n",
       "\n",
       "    .dataframe tbody tr th {\n",
       "        vertical-align: top;\n",
       "    }\n",
       "\n",
       "    .dataframe thead th {\n",
       "        text-align: right;\n",
       "    }\n",
       "</style>\n",
       "<table border=\"1\" class=\"dataframe\">\n",
       "  <thead>\n",
       "    <tr style=\"text-align: right;\">\n",
       "      <th></th>\n",
       "      <th>name</th>\n",
       "      <th>year</th>\n",
       "      <th>selling_price</th>\n",
       "      <th>km_driven</th>\n",
       "      <th>fuel</th>\n",
       "      <th>seller_type</th>\n",
       "      <th>transmission</th>\n",
       "      <th>owner</th>\n",
       "      <th>make</th>\n",
       "    </tr>\n",
       "  </thead>\n",
       "  <tbody>\n",
       "    <tr>\n",
       "      <th>0</th>\n",
       "      <td>Maruti 800 AC</td>\n",
       "      <td>2007</td>\n",
       "      <td>60000</td>\n",
       "      <td>70000</td>\n",
       "      <td>Petrol</td>\n",
       "      <td>Individual</td>\n",
       "      <td>Manual</td>\n",
       "      <td>First Owner</td>\n",
       "      <td>Maruti</td>\n",
       "    </tr>\n",
       "    <tr>\n",
       "      <th>1</th>\n",
       "      <td>Maruti Wagon R LXI Minor</td>\n",
       "      <td>2007</td>\n",
       "      <td>135000</td>\n",
       "      <td>50000</td>\n",
       "      <td>Petrol</td>\n",
       "      <td>Individual</td>\n",
       "      <td>Manual</td>\n",
       "      <td>First Owner</td>\n",
       "      <td>Maruti</td>\n",
       "    </tr>\n",
       "    <tr>\n",
       "      <th>2</th>\n",
       "      <td>Hyundai Verna 1.6 SX</td>\n",
       "      <td>2012</td>\n",
       "      <td>600000</td>\n",
       "      <td>100000</td>\n",
       "      <td>Diesel</td>\n",
       "      <td>Individual</td>\n",
       "      <td>Manual</td>\n",
       "      <td>First Owner</td>\n",
       "      <td>Hyundai</td>\n",
       "    </tr>\n",
       "    <tr>\n",
       "      <th>3</th>\n",
       "      <td>Datsun RediGO T Option</td>\n",
       "      <td>2017</td>\n",
       "      <td>250000</td>\n",
       "      <td>46000</td>\n",
       "      <td>Petrol</td>\n",
       "      <td>Individual</td>\n",
       "      <td>Manual</td>\n",
       "      <td>First Owner</td>\n",
       "      <td>Datsun</td>\n",
       "    </tr>\n",
       "    <tr>\n",
       "      <th>4</th>\n",
       "      <td>Honda Amaze VX i-DTEC</td>\n",
       "      <td>2014</td>\n",
       "      <td>450000</td>\n",
       "      <td>141000</td>\n",
       "      <td>Diesel</td>\n",
       "      <td>Individual</td>\n",
       "      <td>Manual</td>\n",
       "      <td>Second Owner</td>\n",
       "      <td>Honda</td>\n",
       "    </tr>\n",
       "  </tbody>\n",
       "</table>\n",
       "</div>"
      ],
      "text/plain": [
       "                       name  year  selling_price  km_driven    fuel  \\\n",
       "0             Maruti 800 AC  2007          60000      70000  Petrol   \n",
       "1  Maruti Wagon R LXI Minor  2007         135000      50000  Petrol   \n",
       "2      Hyundai Verna 1.6 SX  2012         600000     100000  Diesel   \n",
       "3    Datsun RediGO T Option  2017         250000      46000  Petrol   \n",
       "4     Honda Amaze VX i-DTEC  2014         450000     141000  Diesel   \n",
       "\n",
       "  seller_type transmission         owner     make  \n",
       "0  Individual       Manual   First Owner   Maruti  \n",
       "1  Individual       Manual   First Owner   Maruti  \n",
       "2  Individual       Manual   First Owner  Hyundai  \n",
       "3  Individual       Manual   First Owner   Datsun  \n",
       "4  Individual       Manual  Second Owner    Honda  "
      ]
     },
     "execution_count": 73,
     "metadata": {},
     "output_type": "execute_result"
    }
   ],
   "source": [
    "df_cars.head()"
   ]
  },
  {
   "cell_type": "markdown",
   "id": "2dd9851c",
   "metadata": {},
   "source": [
    "---\n",
    "# Selling price\n",
    "---"
   ]
  },
  {
   "cell_type": "code",
   "execution_count": 4,
   "id": "67cc79c0",
   "metadata": {},
   "outputs": [
    {
     "data": {
      "text/plain": [
       "count      4340.00\n",
       "mean     504127.31\n",
       "std      578548.74\n",
       "min       20000.00\n",
       "25%      208749.75\n",
       "50%      350000.00\n",
       "75%      600000.00\n",
       "max     8900000.00\n",
       "Name: selling_price, dtype: float64"
      ]
     },
     "execution_count": 4,
     "metadata": {},
     "output_type": "execute_result"
    }
   ],
   "source": [
    "#get selling price information\n",
    "pd.set_option('display.float_format', lambda x: '%.2f' % x)\n",
    "df_cars.selling_price.describe()"
   ]
  },
  {
   "cell_type": "code",
   "execution_count": 5,
   "id": "10c43eeb",
   "metadata": {},
   "outputs": [
    {
     "data": {
      "text/plain": [
       "<AxesSubplot:xlabel='selling_price'>"
      ]
     },
     "execution_count": 5,
     "metadata": {},
     "output_type": "execute_result"
    },
    {
     "data": {
      "image/png": "[encoded data removed]",
      "text/plain": [
       "<Figure size 432x288 with 1 Axes>"
      ]
     },
     "metadata": {
      "needs_background": "light"
     },
     "output_type": "display_data"
    }
   ],
   "source": [
    "#ensure selling price column type to be int\n",
    "df_cars['selling_price'] = pd.to_numeric(df_cars['selling_price'])\n",
    "\n",
    "#box plot\n",
    "sns.boxplot(df_cars.selling_price)"
   ]
  },
  {
   "cell_type": "code",
   "execution_count": 6,
   "id": "7d031f32",
   "metadata": {},
   "outputs": [
    {
     "data": {
      "text/plain": [
       "<AxesSubplot:>"
      ]
     },
     "execution_count": 6,
     "metadata": {},
     "output_type": "execute_result"
    },
    {
     "data": {
      "image/png": "[encoded data removed]",
      "text/plain": [
       "<Figure size 432x288 with 1 Axes>"
      ]
     },
     "metadata": {
      "needs_background": "light"
     },
     "output_type": "display_data"
    }
   ],
   "source": [
    "#plot out data\n",
    "df_cars['selling_price'].hist()"
   ]
  },
  {
   "cell_type": "code",
   "execution_count": 7,
   "id": "616528a6",
   "metadata": {},
   "outputs": [
    {
     "data": {
      "text/html": [
       "<div>\n",
       "<style scoped>\n",
       "    .dataframe tbody tr th:only-of-type {\n",
       "        vertical-align: middle;\n",
       "    }\n",
       "\n",
       "    .dataframe tbody tr th {\n",
       "        vertical-align: top;\n",
       "    }\n",
       "\n",
       "    .dataframe thead th {\n",
       "        text-align: right;\n",
       "    }\n",
       "</style>\n",
       "<table border=\"1\" class=\"dataframe\">\n",
       "  <thead>\n",
       "    <tr style=\"text-align: right;\">\n",
       "      <th></th>\n",
       "      <th>name</th>\n",
       "      <th>year</th>\n",
       "      <th>selling_price</th>\n",
       "      <th>km_driven</th>\n",
       "      <th>fuel</th>\n",
       "      <th>seller_type</th>\n",
       "      <th>transmission</th>\n",
       "      <th>owner</th>\n",
       "      <th>make</th>\n",
       "    </tr>\n",
       "  </thead>\n",
       "  <tbody>\n",
       "    <tr>\n",
       "      <th>0</th>\n",
       "      <td>Maruti 800 AC</td>\n",
       "      <td>2007</td>\n",
       "      <td>60000</td>\n",
       "      <td>70000</td>\n",
       "      <td>Petrol</td>\n",
       "      <td>Individual</td>\n",
       "      <td>Manual</td>\n",
       "      <td>First Owner</td>\n",
       "      <td>Maruti</td>\n",
       "    </tr>\n",
       "    <tr>\n",
       "      <th>1</th>\n",
       "      <td>Maruti Wagon R LXI Minor</td>\n",
       "      <td>2007</td>\n",
       "      <td>135000</td>\n",
       "      <td>50000</td>\n",
       "      <td>Petrol</td>\n",
       "      <td>Individual</td>\n",
       "      <td>Manual</td>\n",
       "      <td>First Owner</td>\n",
       "      <td>Maruti</td>\n",
       "    </tr>\n",
       "    <tr>\n",
       "      <th>2</th>\n",
       "      <td>Hyundai Verna 1.6 SX</td>\n",
       "      <td>2012</td>\n",
       "      <td>600000</td>\n",
       "      <td>100000</td>\n",
       "      <td>Diesel</td>\n",
       "      <td>Individual</td>\n",
       "      <td>Manual</td>\n",
       "      <td>First Owner</td>\n",
       "      <td>Hyundai</td>\n",
       "    </tr>\n",
       "    <tr>\n",
       "      <th>3</th>\n",
       "      <td>Datsun RediGO T Option</td>\n",
       "      <td>2017</td>\n",
       "      <td>250000</td>\n",
       "      <td>46000</td>\n",
       "      <td>Petrol</td>\n",
       "      <td>Individual</td>\n",
       "      <td>Manual</td>\n",
       "      <td>First Owner</td>\n",
       "      <td>Datsun</td>\n",
       "    </tr>\n",
       "    <tr>\n",
       "      <th>4</th>\n",
       "      <td>Honda Amaze VX i-DTEC</td>\n",
       "      <td>2014</td>\n",
       "      <td>450000</td>\n",
       "      <td>141000</td>\n",
       "      <td>Diesel</td>\n",
       "      <td>Individual</td>\n",
       "      <td>Manual</td>\n",
       "      <td>Second Owner</td>\n",
       "      <td>Honda</td>\n",
       "    </tr>\n",
       "    <tr>\n",
       "      <th>...</th>\n",
       "      <td>...</td>\n",
       "      <td>...</td>\n",
       "      <td>...</td>\n",
       "      <td>...</td>\n",
       "      <td>...</td>\n",
       "      <td>...</td>\n",
       "      <td>...</td>\n",
       "      <td>...</td>\n",
       "      <td>...</td>\n",
       "    </tr>\n",
       "    <tr>\n",
       "      <th>4335</th>\n",
       "      <td>Hyundai i20 Magna 1.4 CRDi (Diesel)</td>\n",
       "      <td>2014</td>\n",
       "      <td>409999</td>\n",
       "      <td>80000</td>\n",
       "      <td>Diesel</td>\n",
       "      <td>Individual</td>\n",
       "      <td>Manual</td>\n",
       "      <td>Second Owner</td>\n",
       "      <td>Hyundai</td>\n",
       "    </tr>\n",
       "    <tr>\n",
       "      <th>4336</th>\n",
       "      <td>Hyundai i20 Magna 1.4 CRDi</td>\n",
       "      <td>2014</td>\n",
       "      <td>409999</td>\n",
       "      <td>80000</td>\n",
       "      <td>Diesel</td>\n",
       "      <td>Individual</td>\n",
       "      <td>Manual</td>\n",
       "      <td>Second Owner</td>\n",
       "      <td>Hyundai</td>\n",
       "    </tr>\n",
       "    <tr>\n",
       "      <th>4337</th>\n",
       "      <td>Maruti 800 AC BSIII</td>\n",
       "      <td>2009</td>\n",
       "      <td>110000</td>\n",
       "      <td>83000</td>\n",
       "      <td>Petrol</td>\n",
       "      <td>Individual</td>\n",
       "      <td>Manual</td>\n",
       "      <td>Second Owner</td>\n",
       "      <td>Maruti</td>\n",
       "    </tr>\n",
       "    <tr>\n",
       "      <th>4338</th>\n",
       "      <td>Hyundai Creta 1.6 CRDi SX Option</td>\n",
       "      <td>2016</td>\n",
       "      <td>865000</td>\n",
       "      <td>90000</td>\n",
       "      <td>Diesel</td>\n",
       "      <td>Individual</td>\n",
       "      <td>Manual</td>\n",
       "      <td>First Owner</td>\n",
       "      <td>Hyundai</td>\n",
       "    </tr>\n",
       "    <tr>\n",
       "      <th>4339</th>\n",
       "      <td>Renault KWID RXT</td>\n",
       "      <td>2016</td>\n",
       "      <td>225000</td>\n",
       "      <td>40000</td>\n",
       "      <td>Petrol</td>\n",
       "      <td>Individual</td>\n",
       "      <td>Manual</td>\n",
       "      <td>First Owner</td>\n",
       "      <td>Renault</td>\n",
       "    </tr>\n",
       "  </tbody>\n",
       "</table>\n",
       "<p>4069 rows × 9 columns</p>\n",
       "</div>"
      ],
      "text/plain": [
       "                                     name  year  selling_price  km_driven  \\\n",
       "0                           Maruti 800 AC  2007          60000      70000   \n",
       "1                Maruti Wagon R LXI Minor  2007         135000      50000   \n",
       "2                    Hyundai Verna 1.6 SX  2012         600000     100000   \n",
       "3                  Datsun RediGO T Option  2017         250000      46000   \n",
       "4                   Honda Amaze VX i-DTEC  2014         450000     141000   \n",
       "...                                   ...   ...            ...        ...   \n",
       "4335  Hyundai i20 Magna 1.4 CRDi (Diesel)  2014         409999      80000   \n",
       "4336           Hyundai i20 Magna 1.4 CRDi  2014         409999      80000   \n",
       "4337                  Maruti 800 AC BSIII  2009         110000      83000   \n",
       "4338     Hyundai Creta 1.6 CRDi SX Option  2016         865000      90000   \n",
       "4339                     Renault KWID RXT  2016         225000      40000   \n",
       "\n",
       "        fuel seller_type transmission         owner     make  \n",
       "0     Petrol  Individual       Manual   First Owner   Maruti  \n",
       "1     Petrol  Individual       Manual   First Owner   Maruti  \n",
       "2     Diesel  Individual       Manual   First Owner  Hyundai  \n",
       "3     Petrol  Individual       Manual   First Owner   Datsun  \n",
       "4     Diesel  Individual       Manual  Second Owner    Honda  \n",
       "...      ...         ...          ...           ...      ...  \n",
       "4335  Diesel  Individual       Manual  Second Owner  Hyundai  \n",
       "4336  Diesel  Individual       Manual  Second Owner  Hyundai  \n",
       "4337  Petrol  Individual       Manual  Second Owner   Maruti  \n",
       "4338  Diesel  Individual       Manual   First Owner  Hyundai  \n",
       "4339  Petrol  Individual       Manual   First Owner  Renault  \n",
       "\n",
       "[4069 rows x 9 columns]"
      ]
     },
     "metadata": {},
     "output_type": "display_data"
    },
    {
     "data": {
      "text/html": [
       "<div>\n",
       "<style scoped>\n",
       "    .dataframe tbody tr th:only-of-type {\n",
       "        vertical-align: middle;\n",
       "    }\n",
       "\n",
       "    .dataframe tbody tr th {\n",
       "        vertical-align: top;\n",
       "    }\n",
       "\n",
       "    .dataframe thead th {\n",
       "        text-align: right;\n",
       "    }\n",
       "</style>\n",
       "<table border=\"1\" class=\"dataframe\">\n",
       "  <thead>\n",
       "    <tr style=\"text-align: right;\">\n",
       "      <th></th>\n",
       "      <th>name</th>\n",
       "      <th>year</th>\n",
       "      <th>selling_price</th>\n",
       "      <th>km_driven</th>\n",
       "      <th>fuel</th>\n",
       "      <th>seller_type</th>\n",
       "      <th>transmission</th>\n",
       "      <th>owner</th>\n",
       "      <th>make</th>\n",
       "    </tr>\n",
       "  </thead>\n",
       "  <tbody>\n",
       "    <tr>\n",
       "      <th>12</th>\n",
       "      <td>Toyota Corolla Altis 1.8 VL CVT</td>\n",
       "      <td>2018</td>\n",
       "      <td>1650000</td>\n",
       "      <td>25000</td>\n",
       "      <td>Petrol</td>\n",
       "      <td>Dealer</td>\n",
       "      <td>Automatic</td>\n",
       "      <td>First Owner</td>\n",
       "      <td>Toyota</td>\n",
       "    </tr>\n",
       "    <tr>\n",
       "      <th>25</th>\n",
       "      <td>Toyota Corolla Altis 1.8 VL CVT</td>\n",
       "      <td>2018</td>\n",
       "      <td>1650000</td>\n",
       "      <td>25000</td>\n",
       "      <td>Petrol</td>\n",
       "      <td>Dealer</td>\n",
       "      <td>Automatic</td>\n",
       "      <td>First Owner</td>\n",
       "      <td>Toyota</td>\n",
       "    </tr>\n",
       "    <tr>\n",
       "      <th>27</th>\n",
       "      <td>Hyundai Venue SX Opt Diesel</td>\n",
       "      <td>2019</td>\n",
       "      <td>1195000</td>\n",
       "      <td>5000</td>\n",
       "      <td>Diesel</td>\n",
       "      <td>Dealer</td>\n",
       "      <td>Manual</td>\n",
       "      <td>First Owner</td>\n",
       "      <td>Hyundai</td>\n",
       "    </tr>\n",
       "    <tr>\n",
       "      <th>29</th>\n",
       "      <td>Jaguar XF 2.2 Litre Luxury</td>\n",
       "      <td>2014</td>\n",
       "      <td>1964999</td>\n",
       "      <td>28000</td>\n",
       "      <td>Diesel</td>\n",
       "      <td>Dealer</td>\n",
       "      <td>Automatic</td>\n",
       "      <td>First Owner</td>\n",
       "      <td>Jaguar</td>\n",
       "    </tr>\n",
       "    <tr>\n",
       "      <th>30</th>\n",
       "      <td>Mercedes-Benz New C-Class 220 CDI AT</td>\n",
       "      <td>2013</td>\n",
       "      <td>1425000</td>\n",
       "      <td>59000</td>\n",
       "      <td>Diesel</td>\n",
       "      <td>Dealer</td>\n",
       "      <td>Automatic</td>\n",
       "      <td>First Owner</td>\n",
       "      <td>Mercedes-Benz</td>\n",
       "    </tr>\n",
       "    <tr>\n",
       "      <th>...</th>\n",
       "      <td>...</td>\n",
       "      <td>...</td>\n",
       "      <td>...</td>\n",
       "      <td>...</td>\n",
       "      <td>...</td>\n",
       "      <td>...</td>\n",
       "      <td>...</td>\n",
       "      <td>...</td>\n",
       "      <td>...</td>\n",
       "    </tr>\n",
       "    <tr>\n",
       "      <th>4224</th>\n",
       "      <td>Toyota Fortuner 2.7 2WD AT</td>\n",
       "      <td>2016</td>\n",
       "      <td>2500000</td>\n",
       "      <td>70000</td>\n",
       "      <td>Petrol</td>\n",
       "      <td>Individual</td>\n",
       "      <td>Automatic</td>\n",
       "      <td>Second Owner</td>\n",
       "      <td>Toyota</td>\n",
       "    </tr>\n",
       "    <tr>\n",
       "      <th>4228</th>\n",
       "      <td>Mahindra XUV500 W10 AWD</td>\n",
       "      <td>2015</td>\n",
       "      <td>1225000</td>\n",
       "      <td>70000</td>\n",
       "      <td>Diesel</td>\n",
       "      <td>Individual</td>\n",
       "      <td>Manual</td>\n",
       "      <td>First Owner</td>\n",
       "      <td>Mahindra</td>\n",
       "    </tr>\n",
       "    <tr>\n",
       "      <th>4304</th>\n",
       "      <td>Audi Q5 3.0 TDI Quattro Technology</td>\n",
       "      <td>2018</td>\n",
       "      <td>3899000</td>\n",
       "      <td>22000</td>\n",
       "      <td>Diesel</td>\n",
       "      <td>Dealer</td>\n",
       "      <td>Automatic</td>\n",
       "      <td>First Owner</td>\n",
       "      <td>Audi</td>\n",
       "    </tr>\n",
       "    <tr>\n",
       "      <th>4311</th>\n",
       "      <td>Toyota Camry Hybrid 2.5</td>\n",
       "      <td>2017</td>\n",
       "      <td>1900000</td>\n",
       "      <td>20118</td>\n",
       "      <td>Petrol</td>\n",
       "      <td>Dealer</td>\n",
       "      <td>Automatic</td>\n",
       "      <td>First Owner</td>\n",
       "      <td>Toyota</td>\n",
       "    </tr>\n",
       "    <tr>\n",
       "      <th>4313</th>\n",
       "      <td>Ford Endeavour 2.2 Titanium AT 4X2</td>\n",
       "      <td>2019</td>\n",
       "      <td>2800000</td>\n",
       "      <td>10000</td>\n",
       "      <td>Diesel</td>\n",
       "      <td>Individual</td>\n",
       "      <td>Automatic</td>\n",
       "      <td>First Owner</td>\n",
       "      <td>Ford</td>\n",
       "    </tr>\n",
       "  </tbody>\n",
       "</table>\n",
       "<p>271 rows × 9 columns</p>\n",
       "</div>"
      ],
      "text/plain": [
       "                                      name  year  selling_price  km_driven  \\\n",
       "12         Toyota Corolla Altis 1.8 VL CVT  2018        1650000      25000   \n",
       "25         Toyota Corolla Altis 1.8 VL CVT  2018        1650000      25000   \n",
       "27             Hyundai Venue SX Opt Diesel  2019        1195000       5000   \n",
       "29              Jaguar XF 2.2 Litre Luxury  2014        1964999      28000   \n",
       "30    Mercedes-Benz New C-Class 220 CDI AT  2013        1425000      59000   \n",
       "...                                    ...   ...            ...        ...   \n",
       "4224            Toyota Fortuner 2.7 2WD AT  2016        2500000      70000   \n",
       "4228               Mahindra XUV500 W10 AWD  2015        1225000      70000   \n",
       "4304    Audi Q5 3.0 TDI Quattro Technology  2018        3899000      22000   \n",
       "4311               Toyota Camry Hybrid 2.5  2017        1900000      20118   \n",
       "4313    Ford Endeavour 2.2 Titanium AT 4X2  2019        2800000      10000   \n",
       "\n",
       "        fuel seller_type transmission         owner           make  \n",
       "12    Petrol      Dealer    Automatic   First Owner         Toyota  \n",
       "25    Petrol      Dealer    Automatic   First Owner         Toyota  \n",
       "27    Diesel      Dealer       Manual   First Owner        Hyundai  \n",
       "29    Diesel      Dealer    Automatic   First Owner         Jaguar  \n",
       "30    Diesel      Dealer    Automatic   First Owner  Mercedes-Benz  \n",
       "...      ...         ...          ...           ...            ...  \n",
       "4224  Petrol  Individual    Automatic  Second Owner         Toyota  \n",
       "4228  Diesel  Individual       Manual   First Owner       Mahindra  \n",
       "4304  Diesel      Dealer    Automatic   First Owner           Audi  \n",
       "4311  Petrol      Dealer    Automatic   First Owner         Toyota  \n",
       "4313  Diesel  Individual    Automatic   First Owner           Ford  \n",
       "\n",
       "[271 rows x 9 columns]"
      ]
     },
     "metadata": {},
     "output_type": "display_data"
    }
   ],
   "source": [
    "#clean data and obtain outliers\n",
    "q3 = np.quantile(df_cars.selling_price, 0.75)\n",
    "q1 = np.quantile(df_cars.selling_price, 0.25)\n",
    "iqr = q3 - q1\n",
    "\n",
    "#find lower / upper limits\n",
    "lower = q1 - 1.5 * iqr\n",
    "upper = q3 + 1.5 * iqr\n",
    "\n",
    "#filter out and only keep values within range \n",
    "not_outliers = [x for x in df_cars.selling_price if (\n",
    "    (x > lower) & (x < upper))]\n",
    "filtered_cars = df_cars.loc[df_cars.selling_price.isin(not_outliers)]\n",
    "\n",
    "display(filtered_cars)\n",
    "\n",
    "#obtain outlier values\n",
    "outliers = df_cars.loc[~df_cars.selling_price.isin(not_outliers)]\n",
    "display(outliers)"
   ]
  },
  {
   "cell_type": "code",
   "execution_count": 8,
   "id": "c9f2b6b4",
   "metadata": {
    "scrolled": true
   },
   "outputs": [
    {
     "data": {
      "text/plain": [
       "count      4069.00\n",
       "mean     392378.60\n",
       "std      248112.81\n",
       "min       20000.00\n",
       "25%      200000.00\n",
       "50%      340000.00\n",
       "75%      550000.00\n",
       "max     1165000.00\n",
       "Name: selling_price, dtype: float64"
      ]
     },
     "execution_count": 8,
     "metadata": {},
     "output_type": "execute_result"
    }
   ],
   "source": [
    "filtered_cars.selling_price.describe()"
   ]
  },
  {
   "cell_type": "markdown",
   "id": "87c3865b",
   "metadata": {},
   "source": [
    "### Box plot\n",
    "- mean = $392,378.60\n",
    "\n",
    "- min = $20,000.00\n",
    "\n",
    "- max = $1,165,000.00\n",
    "\n",
    "- Q1 = $208,749.75\n",
    "\n",
    "- Q3 = $600,000.00\n",
    "\n",
    "- IQR = $391,250.25\n",
    "\n",
    "- Lower = $20,000.00\n",
    "\n",
    "- Upper = $1,165,000.00"
   ]
  },
  {
   "cell_type": "code",
   "execution_count": 9,
   "id": "5c369564",
   "metadata": {},
   "outputs": [
    {
     "data": {
      "text/plain": [
       "<AxesSubplot:xlabel='selling_price'>"
      ]
     },
     "execution_count": 9,
     "metadata": {},
     "output_type": "execute_result"
    },
    {
     "data": {
      "image/png": "[encoded data removed]",
      "text/plain": [
       "<Figure size 432x288 with 1 Axes>"
      ]
     },
     "metadata": {
      "needs_background": "light"
     },
     "output_type": "display_data"
    }
   ],
   "source": [
    "#ensure selling price column type to be int\n",
    "filtered_cars['selling_price'] = pd.to_numeric(filtered_cars['selling_price'])\n",
    "\n",
    "#box plot\n",
    "sns.boxplot(filtered_cars.selling_price)"
   ]
  },
  {
   "cell_type": "code",
   "execution_count": 10,
   "id": "f49175f6",
   "metadata": {
    "scrolled": false
   },
   "outputs": [
    {
     "data": {
      "text/plain": [
       "<AxesSubplot:>"
      ]
     },
     "execution_count": 10,
     "metadata": {},
     "output_type": "execute_result"
    },
    {
     "data": {
      "image/png": "[encoded data removed]",
      "text/plain": [
       "<Figure size 432x288 with 1 Axes>"
      ]
     },
     "metadata": {
      "needs_background": "light"
     },
     "output_type": "display_data"
    }
   ],
   "source": [
    "#plot out data\n",
    "filtered_cars['selling_price'].hist()"
   ]
  },
  {
   "cell_type": "markdown",
   "id": "62b661f6",
   "metadata": {},
   "source": [
    "### Center of data (mean/average)\n",
    "\n",
    "- The center or mean of the data is $392,378.60"
   ]
  },
  {
   "cell_type": "code",
   "execution_count": 11,
   "id": "68cb34be",
   "metadata": {},
   "outputs": [
    {
     "name": "stdout",
     "output_type": "stream",
     "text": [
      "The center or mean of the data is $392378.6\n"
     ]
    }
   ],
   "source": [
    "#describe the center of data (mean / average)\n",
    "av = float(filtered_cars.selling_price.describe().loc[['mean']])\n",
    "av = round(av,2)\n",
    "\n",
    "print('The center or mean of the data is ${}'.format(av))"
   ]
  },
  {
   "cell_type": "markdown",
   "id": "88746a2b",
   "metadata": {},
   "source": [
    "### Spread of data\n",
    "\n",
    "- Q1 is $208,749.75\n",
    "\n",
    "- Q3 is $600,000.00\n",
    "\n",
    "- IQR is $391,250.25\n",
    "\n",
    "- Min is $20,000.00\n",
    "\n",
    "- Max is $1,165,000.00\n",
    "\n",
    "- Range is $1,145,000.00"
   ]
  },
  {
   "cell_type": "code",
   "execution_count": 12,
   "id": "a663de3c",
   "metadata": {},
   "outputs": [
    {
     "name": "stdout",
     "output_type": "stream",
     "text": [
      "Q1 is $208749.75, Q3 is $600000.0, IQR is $391250.25, Min is $20000.0, Max is $1165000.0, Range is $1145000.0\n"
     ]
    }
   ],
   "source": [
    "#describe the spread of data \n",
    "min_ = float(filtered_cars.selling_price.describe().loc[['min']])\n",
    "min_ = round(min_,2)\n",
    "\n",
    "max_ = float(filtered_cars.selling_price.describe().loc[['max']])\n",
    "max_ = round(max_,2)\n",
    "\n",
    "print(\"Q1 is ${}, Q3 is ${}, IQR is ${}, Min is ${}, Max is ${}, Range is ${}\".format(q1, q3, iqr, min_, max_, (max_-min_)))"
   ]
  },
  {
   "cell_type": "markdown",
   "id": "cfff01af",
   "metadata": {},
   "source": [
    "### Skew of data\n",
    "- The skew of the filtered ata is right skewed distribution"
   ]
  },
  {
   "cell_type": "code",
   "execution_count": 13,
   "id": "3eac555c",
   "metadata": {
    "scrolled": true
   },
   "outputs": [
    {
     "name": "stdout",
     "output_type": "stream",
     "text": [
      "The skew of the filtered car data is right skewed distribution\n"
     ]
    }
   ],
   "source": [
    "#describe the skew of data\n",
    "print('The skew of the filtered car data is right skewed distribution')"
   ]
  },
  {
   "cell_type": "markdown",
   "id": "6bf92580",
   "metadata": {},
   "source": [
    "### Cluster / Modality of data\n",
    "- Since there is only one peak or mode, the modality of can be described as Unimodal"
   ]
  },
  {
   "cell_type": "code",
   "execution_count": 14,
   "id": "42f31db7",
   "metadata": {},
   "outputs": [
    {
     "data": {
      "text/plain": [
       "3963    390000\n",
       "1969    200000\n",
       "3510    380000\n",
       "3083    359000\n",
       "Name: selling_price, dtype: int64"
      ]
     },
     "execution_count": 14,
     "metadata": {},
     "output_type": "execute_result"
    }
   ],
   "source": [
    "#describe clusters/modality \n",
    "samples = filtered_cars.selling_price.sample(4)\n",
    "\n",
    "samples"
   ]
  },
  {
   "cell_type": "code",
   "execution_count": 15,
   "id": "0f106b05",
   "metadata": {
    "scrolled": true
   },
   "outputs": [
    {
     "name": "stdout",
     "output_type": "stream",
     "text": [
      "Since there is only one peak or mode, the modality can be described as Unimodal\n"
     ]
    }
   ],
   "source": [
    "#describe modality \n",
    "print('Since there is only one peak or mode, the modality can be described as Unimodal')"
   ]
  },
  {
   "cell_type": "markdown",
   "id": "f49d7a3a",
   "metadata": {},
   "source": [
    "### Extreme values in data\n",
    "#### In the outliers list:\n",
    "- min values is $1189000.00\n",
    "\n",
    "- max value is $8900000.00\n",
    "\n",
    "- range of $7711000.00"
   ]
  },
  {
   "cell_type": "code",
   "execution_count": 16,
   "id": "b838c140",
   "metadata": {},
   "outputs": [
    {
     "name": "stdout",
     "output_type": "stream",
     "text": [
      "In the outliers list, the min values is $1189000.0, while the max value is $8900000.0, with a range of $7711000.0\n"
     ]
    }
   ],
   "source": [
    "#describe extreme values\n",
    "df_outliers = outliers\n",
    "\n",
    "df_outliers.selling_price.describe()\n",
    "\n",
    "mi_ = float(df_outliers.selling_price.describe().loc[['min']])\n",
    "mi_ = round(mi_,2)\n",
    "\n",
    "ma_ = float(df_outliers.selling_price.describe().loc[['max']])\n",
    "ma_ = round(ma_,2)\n",
    "\n",
    "\n",
    "print('In the outliers list, the min values is ${}, while the max value is ${}, with a range of ${}'.format(mi_, ma_,(ma_-mi_)))"
   ]
  },
  {
   "cell_type": "markdown",
   "id": "fa00351d",
   "metadata": {},
   "source": [
    "---\n",
    "# Year Analysis\n",
    " "
   ]
  },
  {
   "cell_type": "code",
   "execution_count": 17,
   "id": "d7902ce9",
   "metadata": {
    "scrolled": true
   },
   "outputs": [
    {
     "data": {
      "text/plain": [
       "count   4340.00\n",
       "mean    2013.09\n",
       "std        4.22\n",
       "min     1992.00\n",
       "25%     2011.00\n",
       "50%     2014.00\n",
       "75%     2016.00\n",
       "max     2020.00\n",
       "Name: year, dtype: float64"
      ]
     },
     "execution_count": 17,
     "metadata": {},
     "output_type": "execute_result"
    }
   ],
   "source": [
    "year_summary = df_cars.year.describe()\n",
    "year_summary"
   ]
  },
  {
   "cell_type": "markdown",
   "id": "864b44dd",
   "metadata": {},
   "source": [
    "### Center \n",
    "- From the describe() function we can get the info of the year's mean, min, max, std.\n",
    "mean = 2013, min = 1992, max = 2020\n",
    "this is telling us, the dataset year range is from 1992 to 2020, the average of the data year is 2013\n"
   ]
  },
  {
   "cell_type": "code",
   "execution_count": 18,
   "id": "6c7d6eee",
   "metadata": {},
   "outputs": [
    {
     "data": {
      "text/plain": [
       "<AxesSubplot:xlabel='year'>"
      ]
     },
     "execution_count": 18,
     "metadata": {},
     "output_type": "execute_result"
    },
    {
     "data": {
      "image/png": "[encoded data removed]",
      "text/plain": [
       "<Figure size 432x288 with 1 Axes>"
      ]
     },
     "metadata": {
      "needs_background": "light"
     },
     "output_type": "display_data"
    }
   ],
   "source": [
    "#box plot\n",
    "sns.boxplot(df_cars.year)"
   ]
  },
  {
   "cell_type": "code",
   "execution_count": 19,
   "id": "2ef03b98",
   "metadata": {},
   "outputs": [
    {
     "name": "stdout",
     "output_type": "stream",
     "text": [
      "2003.5 2023.5 5.0 2011.0 2016.0\n"
     ]
    }
   ],
   "source": [
    "q3 = np.quantile(df_cars.year, 0.75)\n",
    "q1 = np.quantile(df_cars.year, 0.25)\n",
    "iqr = q3 - q1\n",
    "\n",
    "lower = q1 - 1.5 * iqr\n",
    "upper = q3 + 1.5 * iqr\n",
    "print(lower, upper, iqr,q1,q3)"
   ]
  },
  {
   "cell_type": "markdown",
   "id": "d62aeb8b",
   "metadata": {},
   "source": [
    "### Spread\n",
    "\n",
    "- mean = 2013, min = 1992, max = 2020, the dataset year range is from 1992 to 2020, the avgerage of the data year is 2013\n",
    "- Q1 = 2011\n",
    "- Q3 = 2016\n",
    "- IQR = 2016 - 2011 = 5 (Interqurtile range)\n",
    "- Lower = Q1 -1.5 * IQR = 2003.5\n",
    "- Upper = Q3 +1.5* IQR =2023.5 \n",
    "- However, the upper 2023.5 is over the MAX year = 2020 so the box plot shows upper = 2020"
   ]
  },
  {
   "cell_type": "code",
   "execution_count": 43,
   "id": "0b14e4ef",
   "metadata": {
    "scrolled": true
   },
   "outputs": [
    {
     "data": {
      "image/png": "[encoded data removed]",
      "text/plain": [
       "<Figure size 432x288 with 1 Axes>"
      ]
     },
     "metadata": {
      "needs_background": "light"
     },
     "output_type": "display_data"
    }
   ],
   "source": [
    "# Histgram\n",
    "sns.countplot(data=df_cars,x=\"year\",palette=\"coolwarm\")\n",
    "plt.xticks(rotation=90)\n",
    "plt.xlabel(\"YEAR\",fontsize=10)\n",
    "plt.ylabel(\"COUNT\",fontsize=10)\n",
    "plt.title(\"YEAR COUNT\")\n",
    "plt.show()"
   ]
  },
  {
   "cell_type": "code",
   "execution_count": 25,
   "id": "b1f26254",
   "metadata": {},
   "outputs": [
    {
     "name": "stdout",
     "output_type": "stream",
     "text": [
      "the mean of the year is 2013.09, the median of the year is 2014.0, the mode of the year is 2017\n"
     ]
    }
   ],
   "source": [
    "year_mean = df_cars['year'].mean()\n",
    "year_median = df_cars['year'].median()\n",
    "year_mode = df_cars['year'].mode()\n",
    "print('the mean of the year is {0:.2f}, the median of the year is {1}, the mode of the year is {2}'\n",
    "      .format(year_mean,year_median,int(year_mode[0])))\n"
   ]
  },
  {
   "cell_type": "code",
   "execution_count": 26,
   "id": "aba10ad9",
   "metadata": {},
   "outputs": [
    {
     "name": "stdout",
     "output_type": "stream",
     "text": [
      "Skewness: -0.83 (Negatively skewed)\n"
     ]
    }
   ],
   "source": [
    "import numpy as np\n",
    "from scipy.stats import skew\n",
    "skewness = skew(df_cars.year)\n",
    "\n",
    "if skewness > 0:\n",
    "    skew_description = \"Positively skewed\"\n",
    "elif skewness < 0:\n",
    "    skew_description = \"Negatively skewed\"\n",
    "else:\n",
    "    skew_description = \"Symmetric\"\n",
    "\n",
    "print(f\"Skewness: {skewness:.2f} ({skew_description})\")"
   ]
  },
  {
   "cell_type": "markdown",
   "id": "fb7ec428",
   "metadata": {},
   "source": [
    "###  Skew & Clusters/Modality\n",
    "- Since the mean < median < mode, this is a left skewed distribution (negative skewed)\n",
    "- Unimodal: One clear peak in the histogram."
   ]
  },
  {
   "cell_type": "markdown",
   "id": "745972f8",
   "metadata": {},
   "source": [
    "###  Extreme value"
   ]
  },
  {
   "cell_type": "code",
   "execution_count": 28,
   "id": "e704e0e7",
   "metadata": {},
   "outputs": [
    {
     "name": "stdout",
     "output_type": "stream",
     "text": [
      "Extreme Values: {1992, 1995, 1996, 1997, 1998, 1999, 2000, 2001, 2002, 2003}\n"
     ]
    }
   ],
   "source": [
    "extreme_values = [x for x in df_cars.year if x < lower or x > upper]\n",
    "print(\"Extreme Values:\", set(extreme_values)) #Drop dup"
   ]
  },
  {
   "cell_type": "code",
   "execution_count": 97,
   "id": "afac1fa2",
   "metadata": {},
   "outputs": [
    {
     "data": {
      "text/plain": [
       "2017    466\n",
       "2015    421\n",
       "2012    415\n",
       "2013    386\n",
       "2014    367\n",
       "2018    366\n",
       "2016    357\n",
       "2011    271\n",
       "2010    234\n",
       "2019    195\n",
       "2009    193\n",
       "2008    145\n",
       "2007    134\n",
       "2006    110\n",
       "2005     85\n",
       "2020     48\n",
       "2004     42\n",
       "Name: year, dtype: int64"
      ]
     },
     "execution_count": 97,
     "metadata": {},
     "output_type": "execute_result"
    }
   ],
   "source": [
    "filtered_cars = df_cars.loc[~df_cars.year.isin(extreme_values)]# Remove extreme value\n",
    "filtered_cars.year.value_counts()"
   ]
  },
  {
   "cell_type": "markdown",
   "id": "07125cd7",
   "metadata": {},
   "source": [
    "### Additional Analysis\n",
    "- From the Pie chart we can easily see year 2017 is best selling year \n",
    "- From this sunburn chart, we can see Maruti is the most popular car in every year. and most cars are manual."
   ]
  },
  {
   "cell_type": "code",
   "execution_count": 96,
   "id": "65913a8b",
   "metadata": {},
   "outputs": [
    {
     "data": {
      "text/html": [
       "<div>\n",
       "<style scoped>\n",
       "    .dataframe tbody tr th:only-of-type {\n",
       "        vertical-align: middle;\n",
       "    }\n",
       "\n",
       "    .dataframe tbody tr th {\n",
       "        vertical-align: top;\n",
       "    }\n",
       "\n",
       "    .dataframe thead th {\n",
       "        text-align: right;\n",
       "    }\n",
       "</style>\n",
       "<table border=\"1\" class=\"dataframe\">\n",
       "  <thead>\n",
       "    <tr style=\"text-align: right;\">\n",
       "      <th></th>\n",
       "      <th>year</th>\n",
       "      <th>Count</th>\n",
       "      <th>Percentage</th>\n",
       "    </tr>\n",
       "  </thead>\n",
       "  <tbody>\n",
       "    <tr>\n",
       "      <th>13</th>\n",
       "      <td>2017</td>\n",
       "      <td>466</td>\n",
       "      <td>11.00</td>\n",
       "    </tr>\n",
       "    <tr>\n",
       "      <th>11</th>\n",
       "      <td>2015</td>\n",
       "      <td>421</td>\n",
       "      <td>9.94</td>\n",
       "    </tr>\n",
       "    <tr>\n",
       "      <th>8</th>\n",
       "      <td>2012</td>\n",
       "      <td>415</td>\n",
       "      <td>9.80</td>\n",
       "    </tr>\n",
       "    <tr>\n",
       "      <th>9</th>\n",
       "      <td>2013</td>\n",
       "      <td>386</td>\n",
       "      <td>9.11</td>\n",
       "    </tr>\n",
       "    <tr>\n",
       "      <th>10</th>\n",
       "      <td>2014</td>\n",
       "      <td>367</td>\n",
       "      <td>8.67</td>\n",
       "    </tr>\n",
       "    <tr>\n",
       "      <th>14</th>\n",
       "      <td>2018</td>\n",
       "      <td>366</td>\n",
       "      <td>8.64</td>\n",
       "    </tr>\n",
       "    <tr>\n",
       "      <th>12</th>\n",
       "      <td>2016</td>\n",
       "      <td>357</td>\n",
       "      <td>8.43</td>\n",
       "    </tr>\n",
       "    <tr>\n",
       "      <th>7</th>\n",
       "      <td>2011</td>\n",
       "      <td>271</td>\n",
       "      <td>6.40</td>\n",
       "    </tr>\n",
       "    <tr>\n",
       "      <th>6</th>\n",
       "      <td>2010</td>\n",
       "      <td>234</td>\n",
       "      <td>5.53</td>\n",
       "    </tr>\n",
       "    <tr>\n",
       "      <th>15</th>\n",
       "      <td>2019</td>\n",
       "      <td>195</td>\n",
       "      <td>4.60</td>\n",
       "    </tr>\n",
       "    <tr>\n",
       "      <th>5</th>\n",
       "      <td>2009</td>\n",
       "      <td>193</td>\n",
       "      <td>4.56</td>\n",
       "    </tr>\n",
       "    <tr>\n",
       "      <th>4</th>\n",
       "      <td>2008</td>\n",
       "      <td>145</td>\n",
       "      <td>3.42</td>\n",
       "    </tr>\n",
       "    <tr>\n",
       "      <th>3</th>\n",
       "      <td>2007</td>\n",
       "      <td>134</td>\n",
       "      <td>3.16</td>\n",
       "    </tr>\n",
       "    <tr>\n",
       "      <th>2</th>\n",
       "      <td>2006</td>\n",
       "      <td>110</td>\n",
       "      <td>2.60</td>\n",
       "    </tr>\n",
       "    <tr>\n",
       "      <th>1</th>\n",
       "      <td>2005</td>\n",
       "      <td>85</td>\n",
       "      <td>2.01</td>\n",
       "    </tr>\n",
       "    <tr>\n",
       "      <th>16</th>\n",
       "      <td>2020</td>\n",
       "      <td>48</td>\n",
       "      <td>1.13</td>\n",
       "    </tr>\n",
       "    <tr>\n",
       "      <th>0</th>\n",
       "      <td>2004</td>\n",
       "      <td>42</td>\n",
       "      <td>0.99</td>\n",
       "    </tr>\n",
       "  </tbody>\n",
       "</table>\n",
       "</div>"
      ],
      "text/plain": [
       "    year  Count  Percentage\n",
       "13  2017    466       11.00\n",
       "11  2015    421        9.94\n",
       "8   2012    415        9.80\n",
       "9   2013    386        9.11\n",
       "10  2014    367        8.67\n",
       "14  2018    366        8.64\n",
       "12  2016    357        8.43\n",
       "7   2011    271        6.40\n",
       "6   2010    234        5.53\n",
       "15  2019    195        4.60\n",
       "5   2009    193        4.56\n",
       "4   2008    145        3.42\n",
       "3   2007    134        3.16\n",
       "2   2006    110        2.60\n",
       "1   2005     85        2.01\n",
       "16  2020     48        1.13\n",
       "0   2004     42        0.99"
      ]
     },
     "execution_count": 96,
     "metadata": {},
     "output_type": "execute_result"
    }
   ],
   "source": [
    "year_counts = filtered_cars.groupby(['year'])['year'].count()\n",
    "\n",
    "# Calculate the percentage\n",
    "total_count = year_counts.sum()\n",
    "year_percentage = (year_counts / total_count) * 100\n",
    "\n",
    "# Creating a DataFrame to display results\n",
    "result = pd.DataFrame({'year': year_counts.index, 'Count': year_counts, 'Percentage': year_percentage}).reset_index(drop=True)\n",
    "result_sorted = result.sort_values(by='Count', ascending=False)\n",
    "result_sorted"
   ]
  },
  {
   "cell_type": "code",
   "execution_count": 52,
   "id": "be604e81",
   "metadata": {
    "scrolled": true
   },
   "outputs": [
    {
     "data": {
      "image/png": "[encoded data removed]",
      "text/plain": [
       "<Figure size 432x432 with 1 Axes>"
      ]
     },
     "metadata": {},
     "output_type": "display_data"
    }
   ],
   "source": [
    "labels = filtered_cars[\"year\"].value_counts().index # get the selling year count most popular 50 \n",
    "sizes = filtered_cars[\"year\"].value_counts()\n",
    "colors = [\"#A2CD5A\", \"#FFEFDB\", \"#FF7256\", \"#FFCC00\", \"#8B8878\", \"#FFAA00\"]\n",
    "#     ['#a1c9f4', '#8de5a1', '#ff9f9b', '#d0bbff', '#fffea3', '#b9f2f0']\n",
    "plt.figure(figsize = (6,6))\n",
    "plt.pie(sizes, labels=labels, rotatelabels=False, autopct='%1.1f%%',colors=colors,shadow=True, startangle=45)\n",
    "plt.title('Year',color = 'black',fontsize = 15)\n",
    "plt.show()"
   ]
  },
  {
   "cell_type": "code",
   "execution_count": 76,
   "id": "26e45326",
   "metadata": {
    "scrolled": true
   },
   "outputs": [
    {
     "data": {
      "application/vnd.plotly.v1+json": {
       "config": {
        "plotlyServerURL": "https://plot.ly"
       },
       "data": [
        {
         "branchvalues": "total",
         "customdata": [
          [
           2012
          ],
          [
           2013
          ],
          [
           2014
          ],
          [
           2015
          ],
          [
           2016
          ],
          [
           2017
          ],
          [
           2018
          ],
          [
           2019
          ],
          [
           2020
          ],
          [
           2012
          ],
          [
           2013
          ],
          [
           2014
          ],
          [
           2015
          ],
          [
           2016
          ],
          [
           2017
          ],
          [
           2018
          ],
          [
           2019
          ],
          [
           2012
          ],
          [
           2015
          ],
          [
           2017
          ],
          [
           2018
          ],
          [
           2013
          ],
          [
           2014
          ],
          [
           2015
          ],
          [
           2016
          ],
          [
           2017
          ],
          [
           2018
          ],
          [
           2019
          ],
          [
           2012
          ],
          [
           2014
          ],
          [
           2015
          ],
          [
           2016
          ],
          [
           2018
          ],
          [
           2019
          ],
          [
           2012
          ],
          [
           2013
          ],
          [
           2014
          ],
          [
           2015
          ],
          [
           2016
          ],
          [
           2017
          ],
          [
           2018
          ],
          [
           2019
          ],
          [
           2020
          ],
          [
           2012
          ],
          [
           2013
          ],
          [
           2014
          ],
          [
           2019
          ],
          [
           2012
          ],
          [
           2016
          ],
          [
           2018
          ],
          [
           2019
          ],
          [
           2015
          ],
          [
           2016
          ],
          [
           2017
          ],
          [
           2018
          ],
          [
           2019
          ],
          [
           2012
          ],
          [
           2014
          ],
          [
           2015
          ],
          [
           2016
          ],
          [
           2017
          ],
          [
           2018
          ],
          [
           2019
          ],
          [
           2012
          ],
          [
           2013
          ],
          [
           2014
          ],
          [
           2016
          ],
          [
           2017
          ],
          [
           2018
          ],
          [
           2012
          ],
          [
           2015
          ],
          [
           2012
          ],
          [
           2017
          ],
          [
           2012
          ],
          [
           2013
          ],
          [
           2014
          ],
          [
           2015
          ],
          [
           2017
          ],
          [
           2019
          ],
          [
           2017
          ],
          [
           2018
          ],
          [
           2019
          ],
          [
           2014
          ],
          [
           2016
          ],
          [
           2017
          ],
          [
           2018
          ],
          [
           2019
          ],
          [
           2012
          ],
          [
           2014
          ],
          [
           2016
          ],
          [
           2017
          ],
          [
           2019
          ],
          [
           2012
          ],
          [
           2014
          ],
          [
           2017
          ],
          [
           2018
          ],
          [
           2012
          ],
          [
           2012
          ],
          [
           2013
          ],
          [
           2014
          ],
          [
           2015
          ],
          [
           2016
          ],
          [
           2014
          ],
          [
           2015
          ],
          [
           2016
          ],
          [
           2017
          ],
          [
           2018
          ],
          [
           2019
          ],
          [
           2012
          ],
          [
           2013
          ],
          [
           2014
          ],
          [
           2015
          ],
          [
           2016
          ],
          [
           2017
          ],
          [
           2018
          ],
          [
           2014
          ],
          [
           2012
          ],
          [
           2013
          ],
          [
           2014
          ],
          [
           2015
          ],
          [
           2016
          ],
          [
           2017
          ],
          [
           2018
          ],
          [
           2019
          ],
          [
           2020
          ],
          [
           2012
          ],
          [
           2013
          ],
          [
           2014
          ],
          [
           2015
          ],
          [
           2016
          ],
          [
           2017
          ],
          [
           2018
          ],
          [
           2019
          ],
          [
           2020
          ],
          [
           2012
          ],
          [
           2013
          ],
          [
           2014
          ],
          [
           2015
          ],
          [
           2016
          ],
          [
           2017
          ],
          [
           2018
          ],
          [
           2019
          ],
          [
           2020
          ],
          [
           2018
          ],
          [
           2017
          ],
          [
           2018
          ],
          [
           2019
          ],
          [
           2019
          ],
          [
           2012
          ],
          [
           2013
          ],
          [
           2014
          ],
          [
           2015
          ],
          [
           2016
          ],
          [
           2017
          ],
          [
           2018
          ],
          [
           2019
          ],
          [
           2020
          ],
          [
           2012
          ],
          [
           2013
          ],
          [
           2014
          ],
          [
           2015
          ],
          [
           2016
          ],
          [
           2017
          ],
          [
           2018
          ],
          [
           2019
          ],
          [
           2020
          ],
          [
           2012
          ],
          [
           2012
          ],
          [
           2013
          ],
          [
           2014
          ],
          [
           2015
          ],
          [
           2016
          ],
          [
           2017
          ],
          [
           2018
          ],
          [
           2019
          ],
          [
           2012
          ],
          [
           2013
          ],
          [
           2014
          ],
          [
           2015
          ],
          [
           2016
          ],
          [
           2017
          ],
          [
           2018
          ],
          [
           2019
          ],
          [
           2020
          ],
          [
           2012
          ],
          [
           2013
          ],
          [
           2014
          ],
          [
           2015
          ],
          [
           2016
          ],
          [
           2018
          ],
          [
           2012
          ],
          [
           2013
          ],
          [
           2014
          ],
          [
           2015
          ],
          [
           2016
          ],
          [
           2017
          ],
          [
           2018
          ],
          [
           2019
          ],
          [
           2020
          ],
          [
           2012
          ],
          [
           2013
          ],
          [
           2014
          ],
          [
           2015
          ],
          [
           2016
          ],
          [
           2017
          ],
          [
           2018
          ],
          [
           2019
          ],
          [
           2012
          ],
          [
           2013
          ],
          [
           2014
          ],
          [
           2015
          ],
          [
           2016
          ],
          [
           2017
          ],
          [
           2018
          ],
          [
           2019
          ],
          [
           2020
          ],
          [
           2012
          ],
          [
           2012
          ],
          [
           2013
          ],
          [
           2014
          ],
          [
           2015
          ],
          [
           2016
          ],
          [
           2017
          ],
          [
           2018
          ],
          [
           2019
          ],
          [
           2020
          ],
          [
           2012
          ],
          [
           2013
          ],
          [
           2014
          ],
          [
           2015
          ],
          [
           2016
          ],
          [
           2017
          ],
          [
           2018
          ],
          [
           2019
          ],
          [
           2012
          ],
          [
           2013
          ],
          [
           2014
          ],
          [
           2015
          ],
          [
           2016
          ],
          [
           2017
          ],
          [
           2014
          ],
          [
           2015
          ],
          [
           2016
          ],
          [
           2017
          ],
          [
           2018
          ],
          [
           2019
          ],
          [
           2012
          ],
          [
           2013
          ],
          [
           2014
          ],
          [
           2015
          ],
          [
           2016
          ],
          [
           2017
          ],
          [
           2018
          ],
          [
           2014
          ],
          [
           2012
          ],
          [
           2013
          ],
          [
           2014
          ],
          [
           2015
          ],
          [
           2016
          ],
          [
           2017
          ],
          [
           2018
          ],
          [
           2019
          ],
          [
           2020
          ],
          [
           2012
          ],
          [
           2013
          ],
          [
           2014
          ],
          [
           2015
          ],
          [
           2016
          ],
          [
           2017
          ],
          [
           2018
          ],
          [
           2019
          ],
          [
           2020
          ],
          [
           2012
          ],
          [
           2013
          ],
          [
           2014
          ],
          [
           2015
          ],
          [
           2016
          ],
          [
           2017
          ],
          [
           2018
          ],
          [
           2019
          ],
          [
           2020
          ],
          [
           2018
          ],
          [
           2012
          ],
          [
           2013
          ],
          [
           2014
          ],
          [
           2017
          ],
          [
           2018
          ],
          [
           2019
          ],
          [
           2019
          ],
          [
           2012
          ],
          [
           2016
          ],
          [
           2018
          ],
          [
           2019
          ],
          [
           2012
          ],
          [
           2013
          ],
          [
           2014
          ],
          [
           2015
          ],
          [
           2016
          ],
          [
           2017
          ],
          [
           2018
          ],
          [
           2019
          ],
          [
           2020
          ],
          [
           2012
          ],
          [
           2013
          ],
          [
           2014
          ],
          [
           2015
          ],
          [
           2016
          ],
          [
           2017
          ],
          [
           2018
          ],
          [
           2019
          ],
          [
           2020
          ],
          [
           2012
          ],
          [
           2013
          ],
          [
           2014
          ],
          [
           2016
          ],
          [
           2017
          ],
          [
           2018
          ],
          [
           2012
          ],
          [
           2012
          ],
          [
           2013
          ],
          [
           2014
          ],
          [
           2015
          ],
          [
           2016
          ],
          [
           2017
          ],
          [
           2018
          ],
          [
           2019
          ],
          [
           2012
          ],
          [
           2013
          ],
          [
           2014
          ],
          [
           2015
          ],
          [
           2016
          ],
          [
           2017
          ],
          [
           2018
          ],
          [
           2019
          ],
          [
           2020
          ],
          [
           2012
          ],
          [
           2013
          ],
          [
           2014
          ],
          [
           2015
          ],
          [
           2016
          ],
          [
           2017
          ],
          [
           2018
          ],
          [
           2019
          ],
          [
           2012
          ],
          [
           2013
          ],
          [
           2014
          ],
          [
           2015
          ],
          [
           2016
          ],
          [
           2017
          ],
          [
           2018
          ],
          [
           2019
          ],
          [
           2020
          ],
          [
           2012
          ],
          [
           2013
          ],
          [
           2014
          ],
          [
           2015
          ],
          [
           2016
          ],
          [
           2017
          ],
          [
           2018
          ],
          [
           2019
          ],
          [
           2012
          ],
          [
           2013
          ],
          [
           2014
          ],
          [
           2015
          ],
          [
           2016
          ],
          [
           2017
          ],
          [
           2018
          ],
          [
           2019
          ],
          [
           2020
          ],
          [
           2012
          ],
          [
           2014
          ],
          [
           2017
          ],
          [
           2018
          ],
          [
           2012
          ],
          [
           2013
          ],
          [
           2014
          ],
          [
           2015
          ],
          [
           2016
          ],
          [
           2017
          ],
          [
           2018
          ],
          [
           2019
          ],
          [
           2020
          ]
         ],
         "domain": {
          "x": [
           0,
           1
          ],
          "y": [
           0,
           1
          ]
         },
         "hovertemplate": "labels=%{label}<br>year_sum=%{value}<br>parent=%{parent}<br>id=%{id}<br>year=%{color}<extra></extra>",
         "ids": [
          "2012/Audi/Automatic",
          "2013/Audi/Automatic",
          "2014/Audi/Automatic",
          "2015/Audi/Automatic",
          "2016/Audi/Automatic",
          "2017/Audi/Automatic",
          "2018/Audi/Automatic",
          "2019/Audi/Automatic",
          "2020/Audi/Automatic",
          "2012/BMW/Automatic",
          "2013/BMW/Automatic",
          "2014/BMW/Automatic",
          "2015/BMW/Automatic",
          "2016/BMW/Automatic",
          "2017/BMW/Automatic",
          "2018/BMW/Automatic",
          "2019/BMW/Automatic",
          "2012/Chevrolet/Automatic",
          "2015/Chevrolet/Automatic",
          "2017/Chevrolet/Automatic",
          "2018/Datsun/Automatic",
          "2013/Ford/Automatic",
          "2014/Ford/Automatic",
          "2015/Ford/Automatic",
          "2016/Ford/Automatic",
          "2017/Ford/Automatic",
          "2018/Ford/Automatic",
          "2019/Ford/Automatic",
          "2012/Honda/Automatic",
          "2014/Honda/Automatic",
          "2015/Honda/Automatic",
          "2016/Honda/Automatic",
          "2018/Honda/Automatic",
          "2019/Honda/Automatic",
          "2012/Hyundai/Automatic",
          "2013/Hyundai/Automatic",
          "2014/Hyundai/Automatic",
          "2015/Hyundai/Automatic",
          "2016/Hyundai/Automatic",
          "2017/Hyundai/Automatic",
          "2018/Hyundai/Automatic",
          "2019/Hyundai/Automatic",
          "2020/Hyundai/Automatic",
          "2012/Jaguar/Automatic",
          "2013/Jaguar/Automatic",
          "2014/Jaguar/Automatic",
          "2019/Kia/Automatic",
          "2012/Land/Automatic",
          "2016/Land/Automatic",
          "2018/Land/Automatic",
          "2019/MG/Automatic",
          "2015/Mahindra/Automatic",
          "2016/Mahindra/Automatic",
          "2017/Mahindra/Automatic",
          "2018/Mahindra/Automatic",
          "2019/Mahindra/Automatic",
          "2012/Maruti/Automatic",
          "2014/Maruti/Automatic",
          "2015/Maruti/Automatic",
          "2016/Maruti/Automatic",
          "2017/Maruti/Automatic",
          "2018/Maruti/Automatic",
          "2019/Maruti/Automatic",
          "2012/Mercedes-Benz/Automatic",
          "2013/Mercedes-Benz/Automatic",
          "2014/Mercedes-Benz/Automatic",
          "2016/Mercedes-Benz/Automatic",
          "2017/Mercedes-Benz/Automatic",
          "2018/Mercedes-Benz/Automatic",
          "2012/Mitsubishi/Automatic",
          "2015/Nissan/Automatic",
          "2012/Renault/Automatic",
          "2017/Renault/Automatic",
          "2012/Skoda/Automatic",
          "2013/Skoda/Automatic",
          "2014/Skoda/Automatic",
          "2015/Skoda/Automatic",
          "2017/Skoda/Automatic",
          "2019/Skoda/Automatic",
          "2017/Tata/Automatic",
          "2018/Tata/Automatic",
          "2019/Tata/Automatic",
          "2014/Toyota/Automatic",
          "2016/Toyota/Automatic",
          "2017/Toyota/Automatic",
          "2018/Toyota/Automatic",
          "2019/Toyota/Automatic",
          "2012/Volkswagen/Automatic",
          "2014/Volkswagen/Automatic",
          "2016/Volkswagen/Automatic",
          "2017/Volkswagen/Automatic",
          "2019/Volkswagen/Automatic",
          "2012/Volvo/Automatic",
          "2014/Volvo/Automatic",
          "2017/Volvo/Automatic",
          "2018/Volvo/Automatic",
          "2012/Ambassador/Manual",
          "2012/Chevrolet/Manual",
          "2013/Chevrolet/Manual",
          "2014/Chevrolet/Manual",
          "2015/Chevrolet/Manual",
          "2016/Chevrolet/Manual",
          "2014/Datsun/Manual",
          "2015/Datsun/Manual",
          "2016/Datsun/Manual",
          "2017/Datsun/Manual",
          "2018/Datsun/Manual",
          "2019/Datsun/Manual",
          "2012/Fiat/Manual",
          "2013/Fiat/Manual",
          "2014/Fiat/Manual",
          "2015/Fiat/Manual",
          "2016/Fiat/Manual",
          "2017/Fiat/Manual",
          "2018/Fiat/Manual",
          "2014/Force/Manual",
          "2012/Ford/Manual",
          "2013/Ford/Manual",
          "2014/Ford/Manual",
          "2015/Ford/Manual",
          "2016/Ford/Manual",
          "2017/Ford/Manual",
          "2018/Ford/Manual",
          "2019/Ford/Manual",
          "2020/Ford/Manual",
          "2012/Honda/Manual",
          "2013/Honda/Manual",
          "2014/Honda/Manual",
          "2015/Honda/Manual",
          "2016/Honda/Manual",
          "2017/Honda/Manual",
          "2018/Honda/Manual",
          "2019/Honda/Manual",
          "2020/Honda/Manual",
          "2012/Hyundai/Manual",
          "2013/Hyundai/Manual",
          "2014/Hyundai/Manual",
          "2015/Hyundai/Manual",
          "2016/Hyundai/Manual",
          "2017/Hyundai/Manual",
          "2018/Hyundai/Manual",
          "2019/Hyundai/Manual",
          "2020/Hyundai/Manual",
          "2018/Isuzu/Manual",
          "2017/Jeep/Manual",
          "2018/Jeep/Manual",
          "2019/Jeep/Manual",
          "2019/MG/Manual",
          "2012/Mahindra/Manual",
          "2013/Mahindra/Manual",
          "2014/Mahindra/Manual",
          "2015/Mahindra/Manual",
          "2016/Mahindra/Manual",
          "2017/Mahindra/Manual",
          "2018/Mahindra/Manual",
          "2019/Mahindra/Manual",
          "2020/Mahindra/Manual",
          "2012/Maruti/Manual",
          "2013/Maruti/Manual",
          "2014/Maruti/Manual",
          "2015/Maruti/Manual",
          "2016/Maruti/Manual",
          "2017/Maruti/Manual",
          "2018/Maruti/Manual",
          "2019/Maruti/Manual",
          "2020/Maruti/Manual",
          "2012/Mitsubishi/Manual",
          "2012/Nissan/Manual",
          "2013/Nissan/Manual",
          "2014/Nissan/Manual",
          "2015/Nissan/Manual",
          "2016/Nissan/Manual",
          "2017/Nissan/Manual",
          "2018/Nissan/Manual",
          "2019/Nissan/Manual",
          "2012/Renault/Manual",
          "2013/Renault/Manual",
          "2014/Renault/Manual",
          "2015/Renault/Manual",
          "2016/Renault/Manual",
          "2017/Renault/Manual",
          "2018/Renault/Manual",
          "2019/Renault/Manual",
          "2020/Renault/Manual",
          "2012/Skoda/Manual",
          "2013/Skoda/Manual",
          "2014/Skoda/Manual",
          "2015/Skoda/Manual",
          "2016/Skoda/Manual",
          "2018/Skoda/Manual",
          "2012/Tata/Manual",
          "2013/Tata/Manual",
          "2014/Tata/Manual",
          "2015/Tata/Manual",
          "2016/Tata/Manual",
          "2017/Tata/Manual",
          "2018/Tata/Manual",
          "2019/Tata/Manual",
          "2020/Tata/Manual",
          "2012/Toyota/Manual",
          "2013/Toyota/Manual",
          "2014/Toyota/Manual",
          "2015/Toyota/Manual",
          "2016/Toyota/Manual",
          "2017/Toyota/Manual",
          "2018/Toyota/Manual",
          "2019/Toyota/Manual",
          "2012/Volkswagen/Manual",
          "2013/Volkswagen/Manual",
          "2014/Volkswagen/Manual",
          "2015/Volkswagen/Manual",
          "2016/Volkswagen/Manual",
          "2017/Volkswagen/Manual",
          "2018/Volkswagen/Manual",
          "2019/Volkswagen/Manual",
          "2020/Volkswagen/Manual",
          "2012/Ambassador",
          "2012/Audi",
          "2013/Audi",
          "2014/Audi",
          "2015/Audi",
          "2016/Audi",
          "2017/Audi",
          "2018/Audi",
          "2019/Audi",
          "2020/Audi",
          "2012/BMW",
          "2013/BMW",
          "2014/BMW",
          "2015/BMW",
          "2016/BMW",
          "2017/BMW",
          "2018/BMW",
          "2019/BMW",
          "2012/Chevrolet",
          "2013/Chevrolet",
          "2014/Chevrolet",
          "2015/Chevrolet",
          "2016/Chevrolet",
          "2017/Chevrolet",
          "2014/Datsun",
          "2015/Datsun",
          "2016/Datsun",
          "2017/Datsun",
          "2018/Datsun",
          "2019/Datsun",
          "2012/Fiat",
          "2013/Fiat",
          "2014/Fiat",
          "2015/Fiat",
          "2016/Fiat",
          "2017/Fiat",
          "2018/Fiat",
          "2014/Force",
          "2012/Ford",
          "2013/Ford",
          "2014/Ford",
          "2015/Ford",
          "2016/Ford",
          "2017/Ford",
          "2018/Ford",
          "2019/Ford",
          "2020/Ford",
          "2012/Honda",
          "2013/Honda",
          "2014/Honda",
          "2015/Honda",
          "2016/Honda",
          "2017/Honda",
          "2018/Honda",
          "2019/Honda",
          "2020/Honda",
          "2012/Hyundai",
          "2013/Hyundai",
          "2014/Hyundai",
          "2015/Hyundai",
          "2016/Hyundai",
          "2017/Hyundai",
          "2018/Hyundai",
          "2019/Hyundai",
          "2020/Hyundai",
          "2018/Isuzu",
          "2012/Jaguar",
          "2013/Jaguar",
          "2014/Jaguar",
          "2017/Jeep",
          "2018/Jeep",
          "2019/Jeep",
          "2019/Kia",
          "2012/Land",
          "2016/Land",
          "2018/Land",
          "2019/MG",
          "2012/Mahindra",
          "2013/Mahindra",
          "2014/Mahindra",
          "2015/Mahindra",
          "2016/Mahindra",
          "2017/Mahindra",
          "2018/Mahindra",
          "2019/Mahindra",
          "2020/Mahindra",
          "2012/Maruti",
          "2013/Maruti",
          "2014/Maruti",
          "2015/Maruti",
          "2016/Maruti",
          "2017/Maruti",
          "2018/Maruti",
          "2019/Maruti",
          "2020/Maruti",
          "2012/Mercedes-Benz",
          "2013/Mercedes-Benz",
          "2014/Mercedes-Benz",
          "2016/Mercedes-Benz",
          "2017/Mercedes-Benz",
          "2018/Mercedes-Benz",
          "2012/Mitsubishi",
          "2012/Nissan",
          "2013/Nissan",
          "2014/Nissan",
          "2015/Nissan",
          "2016/Nissan",
          "2017/Nissan",
          "2018/Nissan",
          "2019/Nissan",
          "2012/Renault",
          "2013/Renault",
          "2014/Renault",
          "2015/Renault",
          "2016/Renault",
          "2017/Renault",
          "2018/Renault",
          "2019/Renault",
          "2020/Renault",
          "2012/Skoda",
          "2013/Skoda",
          "2014/Skoda",
          "2015/Skoda",
          "2016/Skoda",
          "2017/Skoda",
          "2018/Skoda",
          "2019/Skoda",
          "2012/Tata",
          "2013/Tata",
          "2014/Tata",
          "2015/Tata",
          "2016/Tata",
          "2017/Tata",
          "2018/Tata",
          "2019/Tata",
          "2020/Tata",
          "2012/Toyota",
          "2013/Toyota",
          "2014/Toyota",
          "2015/Toyota",
          "2016/Toyota",
          "2017/Toyota",
          "2018/Toyota",
          "2019/Toyota",
          "2012/Volkswagen",
          "2013/Volkswagen",
          "2014/Volkswagen",
          "2015/Volkswagen",
          "2016/Volkswagen",
          "2017/Volkswagen",
          "2018/Volkswagen",
          "2019/Volkswagen",
          "2020/Volkswagen",
          "2012/Volvo",
          "2014/Volvo",
          "2017/Volvo",
          "2018/Volvo",
          "2012",
          "2013",
          "2014",
          "2015",
          "2016",
          "2017",
          "2018",
          "2019",
          "2020"
         ],
         "labels": [
          "Automatic",
          "Automatic",
          "Automatic",
          "Automatic",
          "Automatic",
          "Automatic",
          "Automatic",
          "Automatic",
          "Automatic",
          "Automatic",
          "Automatic",
          "Automatic",
          "Automatic",
          "Automatic",
          "Automatic",
          "Automatic",
          "Automatic",
          "Automatic",
          "Automatic",
          "Automatic",
          "Automatic",
          "Automatic",
          "Automatic",
          "Automatic",
          "Automatic",
          "Automatic",
          "Automatic",
          "Automatic",
          "Automatic",
          "Automatic",
          "Automatic",
          "Automatic",
          "Automatic",
          "Automatic",
          "Automatic",
          "Automatic",
          "Automatic",
          "Automatic",
          "Automatic",
          "Automatic",
          "Automatic",
          "Automatic",
          "Automatic",
          "Automatic",
          "Automatic",
          "Automatic",
          "Automatic",
          "Automatic",
          "Automatic",
          "Automatic",
          "Automatic",
          "Automatic",
          "Automatic",
          "Automatic",
          "Automatic",
          "Automatic",
          "Automatic",
          "Automatic",
          "Automatic",
          "Automatic",
          "Automatic",
          "Automatic",
          "Automatic",
          "Automatic",
          "Automatic",
          "Automatic",
          "Automatic",
          "Automatic",
          "Automatic",
          "Automatic",
          "Automatic",
          "Automatic",
          "Automatic",
          "Automatic",
          "Automatic",
          "Automatic",
          "Automatic",
          "Automatic",
          "Automatic",
          "Automatic",
          "Automatic",
          "Automatic",
          "Automatic",
          "Automatic",
          "Automatic",
          "Automatic",
          "Automatic",
          "Automatic",
          "Automatic",
          "Automatic",
          "Automatic",
          "Automatic",
          "Automatic",
          "Automatic",
          "Automatic",
          "Automatic",
          "Manual",
          "Manual",
          "Manual",
          "Manual",
          "Manual",
          "Manual",
          "Manual",
          "Manual",
          "Manual",
          "Manual",
          "Manual",
          "Manual",
          "Manual",
          "Manual",
          "Manual",
          "Manual",
          "Manual",
          "Manual",
          "Manual",
          "Manual",
          "Manual",
          "Manual",
          "Manual",
          "Manual",
          "Manual",
          "Manual",
          "Manual",
          "Manual",
          "Manual",
          "Manual",
          "Manual",
          "Manual",
          "Manual",
          "Manual",
          "Manual",
          "Manual",
          "Manual",
          "Manual",
          "Manual",
          "Manual",
          "Manual",
          "Manual",
          "Manual",
          "Manual",
          "Manual",
          "Manual",
          "Manual",
          "Manual",
          "Manual",
          "Manual",
          "Manual",
          "Manual",
          "Manual",
          "Manual",
          "Manual",
          "Manual",
          "Manual",
          "Manual",
          "Manual",
          "Manual",
          "Manual",
          "Manual",
          "Manual",
          "Manual",
          "Manual",
          "Manual",
          "Manual",
          "Manual",
          "Manual",
          "Manual",
          "Manual",
          "Manual",
          "Manual",
          "Manual",
          "Manual",
          "Manual",
          "Manual",
          "Manual",
          "Manual",
          "Manual",
          "Manual",
          "Manual",
          "Manual",
          "Manual",
          "Manual",
          "Manual",
          "Manual",
          "Manual",
          "Manual",
          "Manual",
          "Manual",
          "Manual",
          "Manual",
          "Manual",
          "Manual",
          "Manual",
          "Manual",
          "Manual",
          "Manual",
          "Manual",
          "Manual",
          "Manual",
          "Manual",
          "Manual",
          "Manual",
          "Manual",
          "Manual",
          "Manual",
          "Manual",
          "Manual",
          "Manual",
          "Manual",
          "Manual",
          "Manual",
          "Manual",
          "Manual",
          "Manual",
          "Manual",
          "Manual",
          "Manual",
          "Ambassador",
          "Audi",
          "Audi",
          "Audi",
          "Audi",
          "Audi",
          "Audi",
          "Audi",
          "Audi",
          "Audi",
          "BMW",
          "BMW",
          "BMW",
          "BMW",
          "BMW",
          "BMW",
          "BMW",
          "BMW",
          "Chevrolet",
          "Chevrolet",
          "Chevrolet",
          "Chevrolet",
          "Chevrolet",
          "Chevrolet",
          "Datsun",
          "Datsun",
          "Datsun",
          "Datsun",
          "Datsun",
          "Datsun",
          "Fiat",
          "Fiat",
          "Fiat",
          "Fiat",
          "Fiat",
          "Fiat",
          "Fiat",
          "Force",
          "Ford",
          "Ford",
          "Ford",
          "Ford",
          "Ford",
          "Ford",
          "Ford",
          "Ford",
          "Ford",
          "Honda",
          "Honda",
          "Honda",
          "Honda",
          "Honda",
          "Honda",
          "Honda",
          "Honda",
          "Honda",
          "Hyundai",
          "Hyundai",
          "Hyundai",
          "Hyundai",
          "Hyundai",
          "Hyundai",
          "Hyundai",
          "Hyundai",
          "Hyundai",
          "Isuzu",
          "Jaguar",
          "Jaguar",
          "Jaguar",
          "Jeep",
          "Jeep",
          "Jeep",
          "Kia",
          "Land",
          "Land",
          "Land",
          "MG",
          "Mahindra",
          "Mahindra",
          "Mahindra",
          "Mahindra",
          "Mahindra",
          "Mahindra",
          "Mahindra",
          "Mahindra",
          "Mahindra",
          "Maruti",
          "Maruti",
          "Maruti",
          "Maruti",
          "Maruti",
          "Maruti",
          "Maruti",
          "Maruti",
          "Maruti",
          "Mercedes-Benz",
          "Mercedes-Benz",
          "Mercedes-Benz",
          "Mercedes-Benz",
          "Mercedes-Benz",
          "Mercedes-Benz",
          "Mitsubishi",
          "Nissan",
          "Nissan",
          "Nissan",
          "Nissan",
          "Nissan",
          "Nissan",
          "Nissan",
          "Nissan",
          "Renault",
          "Renault",
          "Renault",
          "Renault",
          "Renault",
          "Renault",
          "Renault",
          "Renault",
          "Renault",
          "Skoda",
          "Skoda",
          "Skoda",
          "Skoda",
          "Skoda",
          "Skoda",
          "Skoda",
          "Skoda",
          "Tata",
          "Tata",
          "Tata",
          "Tata",
          "Tata",
          "Tata",
          "Tata",
          "Tata",
          "Tata",
          "Toyota",
          "Toyota",
          "Toyota",
          "Toyota",
          "Toyota",
          "Toyota",
          "Toyota",
          "Toyota",
          "Volkswagen",
          "Volkswagen",
          "Volkswagen",
          "Volkswagen",
          "Volkswagen",
          "Volkswagen",
          "Volkswagen",
          "Volkswagen",
          "Volkswagen",
          "Volvo",
          "Volvo",
          "Volvo",
          "Volvo",
          "2012",
          "2013",
          "2014",
          "2015",
          "2016",
          "2017",
          "2018",
          "2019",
          "2020"
         ],
         "marker": {
          "coloraxis": "coloraxis",
          "colors": [
           2012,
           2013,
           2014,
           2015,
           2016,
           2017,
           2018,
           2019,
           2020,
           2012,
           2013,
           2014,
           2015,
           2016,
           2017,
           2018,
           2019,
           2012,
           2015,
           2017,
           2018,
           2013,
           2014,
           2015,
           2016,
           2017,
           2018,
           2019,
           2012,
           2014,
           2015,
           2016,
           2018,
           2019,
           2012,
           2013,
           2014,
           2015,
           2016,
           2017,
           2018,
           2019,
           2020,
           2012,
           2013,
           2014,
           2019,
           2012,
           2016,
           2018,
           2019,
           2015,
           2016,
           2017,
           2018,
           2019,
           2012,
           2014,
           2015,
           2016,
           2017,
           2018,
           2019,
           2012,
           2013,
           2014,
           2016,
           2017,
           2018,
           2012,
           2015,
           2012,
           2017,
           2012,
           2013,
           2014,
           2015,
           2017,
           2019,
           2017,
           2018,
           2019,
           2014,
           2016,
           2017,
           2018,
           2019,
           2012,
           2014,
           2016,
           2017,
           2019,
           2012,
           2014,
           2017,
           2018,
           2012,
           2012,
           2013,
           2014,
           2015,
           2016,
           2014,
           2015,
           2016,
           2017,
           2018,
           2019,
           2012,
           2013,
           2014,
           2015,
           2016,
           2017,
           2018,
           2014,
           2012,
           2013,
           2014,
           2015,
           2016,
           2017,
           2018,
           2019,
           2020,
           2012,
           2013,
           2014,
           2015,
           2016,
           2017,
           2018,
           2019,
           2020,
           2012,
           2013,
           2014,
           2015,
           2016,
           2017,
           2018,
           2019,
           2020,
           2018,
           2017,
           2018,
           2019,
           2019,
           2012,
           2013,
           2014,
           2015,
           2016,
           2017,
           2018,
           2019,
           2020,
           2012,
           2013,
           2014,
           2015,
           2016,
           2017,
           2018,
           2019,
           2020,
           2012,
           2012,
           2013,
           2014,
           2015,
           2016,
           2017,
           2018,
           2019,
           2012,
           2013,
           2014,
           2015,
           2016,
           2017,
           2018,
           2019,
           2020,
           2012,
           2013,
           2014,
           2015,
           2016,
           2018,
           2012,
           2013,
           2014,
           2015,
           2016,
           2017,
           2018,
           2019,
           2020,
           2012,
           2013,
           2014,
           2015,
           2016,
           2017,
           2018,
           2019,
           2012,
           2013,
           2014,
           2015,
           2016,
           2017,
           2018,
           2019,
           2020,
           2012,
           2012,
           2013,
           2014,
           2015,
           2016,
           2017,
           2018,
           2019,
           2020,
           2012,
           2013,
           2014,
           2015,
           2016,
           2017,
           2018,
           2019,
           2012,
           2013,
           2014,
           2015,
           2016,
           2017,
           2014,
           2015,
           2016,
           2017,
           2018,
           2019,
           2012,
           2013,
           2014,
           2015,
           2016,
           2017,
           2018,
           2014,
           2012,
           2013,
           2014,
           2015,
           2016,
           2017,
           2018,
           2019,
           2020,
           2012,
           2013,
           2014,
           2015,
           2016,
           2017,
           2018,
           2019,
           2020,
           2012,
           2013,
           2014,
           2015,
           2016,
           2017,
           2018,
           2019,
           2020,
           2018,
           2012,
           2013,
           2014,
           2017,
           2018,
           2019,
           2019,
           2012,
           2016,
           2018,
           2019,
           2012,
           2013,
           2014,
           2015,
           2016,
           2017,
           2018,
           2019,
           2020,
           2012,
           2013,
           2014,
           2015,
           2016,
           2017,
           2018,
           2019,
           2020,
           2012,
           2013,
           2014,
           2016,
           2017,
           2018,
           2012,
           2012,
           2013,
           2014,
           2015,
           2016,
           2017,
           2018,
           2019,
           2012,
           2013,
           2014,
           2015,
           2016,
           2017,
           2018,
           2019,
           2020,
           2012,
           2013,
           2014,
           2015,
           2016,
           2017,
           2018,
           2019,
           2012,
           2013,
           2014,
           2015,
           2016,
           2017,
           2018,
           2019,
           2020,
           2012,
           2013,
           2014,
           2015,
           2016,
           2017,
           2018,
           2019,
           2012,
           2013,
           2014,
           2015,
           2016,
           2017,
           2018,
           2019,
           2020,
           2012,
           2014,
           2017,
           2018,
           2012,
           2013,
           2014,
           2015,
           2016,
           2017,
           2018,
           2019,
           2020
          ]
         },
         "name": "",
         "parents": [
          "2012/Audi",
          "2013/Audi",
          "2014/Audi",
          "2015/Audi",
          "2016/Audi",
          "2017/Audi",
          "2018/Audi",
          "2019/Audi",
          "2020/Audi",
          "2012/BMW",
          "2013/BMW",
          "2014/BMW",
          "2015/BMW",
          "2016/BMW",
          "2017/BMW",
          "2018/BMW",
          "2019/BMW",
          "2012/Chevrolet",
          "2015/Chevrolet",
          "2017/Chevrolet",
          "2018/Datsun",
          "2013/Ford",
          "2014/Ford",
          "2015/Ford",
          "2016/Ford",
          "2017/Ford",
          "2018/Ford",
          "2019/Ford",
          "2012/Honda",
          "2014/Honda",
          "2015/Honda",
          "2016/Honda",
          "2018/Honda",
          "2019/Honda",
          "2012/Hyundai",
          "2013/Hyundai",
          "2014/Hyundai",
          "2015/Hyundai",
          "2016/Hyundai",
          "2017/Hyundai",
          "2018/Hyundai",
          "2019/Hyundai",
          "2020/Hyundai",
          "2012/Jaguar",
          "2013/Jaguar",
          "2014/Jaguar",
          "2019/Kia",
          "2012/Land",
          "2016/Land",
          "2018/Land",
          "2019/MG",
          "2015/Mahindra",
          "2016/Mahindra",
          "2017/Mahindra",
          "2018/Mahindra",
          "2019/Mahindra",
          "2012/Maruti",
          "2014/Maruti",
          "2015/Maruti",
          "2016/Maruti",
          "2017/Maruti",
          "2018/Maruti",
          "2019/Maruti",
          "2012/Mercedes-Benz",
          "2013/Mercedes-Benz",
          "2014/Mercedes-Benz",
          "2016/Mercedes-Benz",
          "2017/Mercedes-Benz",
          "2018/Mercedes-Benz",
          "2012/Mitsubishi",
          "2015/Nissan",
          "2012/Renault",
          "2017/Renault",
          "2012/Skoda",
          "2013/Skoda",
          "2014/Skoda",
          "2015/Skoda",
          "2017/Skoda",
          "2019/Skoda",
          "2017/Tata",
          "2018/Tata",
          "2019/Tata",
          "2014/Toyota",
          "2016/Toyota",
          "2017/Toyota",
          "2018/Toyota",
          "2019/Toyota",
          "2012/Volkswagen",
          "2014/Volkswagen",
          "2016/Volkswagen",
          "2017/Volkswagen",
          "2019/Volkswagen",
          "2012/Volvo",
          "2014/Volvo",
          "2017/Volvo",
          "2018/Volvo",
          "2012/Ambassador",
          "2012/Chevrolet",
          "2013/Chevrolet",
          "2014/Chevrolet",
          "2015/Chevrolet",
          "2016/Chevrolet",
          "2014/Datsun",
          "2015/Datsun",
          "2016/Datsun",
          "2017/Datsun",
          "2018/Datsun",
          "2019/Datsun",
          "2012/Fiat",
          "2013/Fiat",
          "2014/Fiat",
          "2015/Fiat",
          "2016/Fiat",
          "2017/Fiat",
          "2018/Fiat",
          "2014/Force",
          "2012/Ford",
          "2013/Ford",
          "2014/Ford",
          "2015/Ford",
          "2016/Ford",
          "2017/Ford",
          "2018/Ford",
          "2019/Ford",
          "2020/Ford",
          "2012/Honda",
          "2013/Honda",
          "2014/Honda",
          "2015/Honda",
          "2016/Honda",
          "2017/Honda",
          "2018/Honda",
          "2019/Honda",
          "2020/Honda",
          "2012/Hyundai",
          "2013/Hyundai",
          "2014/Hyundai",
          "2015/Hyundai",
          "2016/Hyundai",
          "2017/Hyundai",
          "2018/Hyundai",
          "2019/Hyundai",
          "2020/Hyundai",
          "2018/Isuzu",
          "2017/Jeep",
          "2018/Jeep",
          "2019/Jeep",
          "2019/MG",
          "2012/Mahindra",
          "2013/Mahindra",
          "2014/Mahindra",
          "2015/Mahindra",
          "2016/Mahindra",
          "2017/Mahindra",
          "2018/Mahindra",
          "2019/Mahindra",
          "2020/Mahindra",
          "2012/Maruti",
          "2013/Maruti",
          "2014/Maruti",
          "2015/Maruti",
          "2016/Maruti",
          "2017/Maruti",
          "2018/Maruti",
          "2019/Maruti",
          "2020/Maruti",
          "2012/Mitsubishi",
          "2012/Nissan",
          "2013/Nissan",
          "2014/Nissan",
          "2015/Nissan",
          "2016/Nissan",
          "2017/Nissan",
          "2018/Nissan",
          "2019/Nissan",
          "2012/Renault",
          "2013/Renault",
          "2014/Renault",
          "2015/Renault",
          "2016/Renault",
          "2017/Renault",
          "2018/Renault",
          "2019/Renault",
          "2020/Renault",
          "2012/Skoda",
          "2013/Skoda",
          "2014/Skoda",
          "2015/Skoda",
          "2016/Skoda",
          "2018/Skoda",
          "2012/Tata",
          "2013/Tata",
          "2014/Tata",
          "2015/Tata",
          "2016/Tata",
          "2017/Tata",
          "2018/Tata",
          "2019/Tata",
          "2020/Tata",
          "2012/Toyota",
          "2013/Toyota",
          "2014/Toyota",
          "2015/Toyota",
          "2016/Toyota",
          "2017/Toyota",
          "2018/Toyota",
          "2019/Toyota",
          "2012/Volkswagen",
          "2013/Volkswagen",
          "2014/Volkswagen",
          "2015/Volkswagen",
          "2016/Volkswagen",
          "2017/Volkswagen",
          "2018/Volkswagen",
          "2019/Volkswagen",
          "2020/Volkswagen",
          "2012",
          "2012",
          "2013",
          "2014",
          "2015",
          "2016",
          "2017",
          "2018",
          "2019",
          "2020",
          "2012",
          "2013",
          "2014",
          "2015",
          "2016",
          "2017",
          "2018",
          "2019",
          "2012",
          "2013",
          "2014",
          "2015",
          "2016",
          "2017",
          "2014",
          "2015",
          "2016",
          "2017",
          "2018",
          "2019",
          "2012",
          "2013",
          "2014",
          "2015",
          "2016",
          "2017",
          "2018",
          "2014",
          "2012",
          "2013",
          "2014",
          "2015",
          "2016",
          "2017",
          "2018",
          "2019",
          "2020",
          "2012",
          "2013",
          "2014",
          "2015",
          "2016",
          "2017",
          "2018",
          "2019",
          "2020",
          "2012",
          "2013",
          "2014",
          "2015",
          "2016",
          "2017",
          "2018",
          "2019",
          "2020",
          "2018",
          "2012",
          "2013",
          "2014",
          "2017",
          "2018",
          "2019",
          "2019",
          "2012",
          "2016",
          "2018",
          "2019",
          "2012",
          "2013",
          "2014",
          "2015",
          "2016",
          "2017",
          "2018",
          "2019",
          "2020",
          "2012",
          "2013",
          "2014",
          "2015",
          "2016",
          "2017",
          "2018",
          "2019",
          "2020",
          "2012",
          "2013",
          "2014",
          "2016",
          "2017",
          "2018",
          "2012",
          "2012",
          "2013",
          "2014",
          "2015",
          "2016",
          "2017",
          "2018",
          "2019",
          "2012",
          "2013",
          "2014",
          "2015",
          "2016",
          "2017",
          "2018",
          "2019",
          "2020",
          "2012",
          "2013",
          "2014",
          "2015",
          "2016",
          "2017",
          "2018",
          "2019",
          "2012",
          "2013",
          "2014",
          "2015",
          "2016",
          "2017",
          "2018",
          "2019",
          "2020",
          "2012",
          "2013",
          "2014",
          "2015",
          "2016",
          "2017",
          "2018",
          "2019",
          "2012",
          "2013",
          "2014",
          "2015",
          "2016",
          "2017",
          "2018",
          "2019",
          "2020",
          "2012",
          "2014",
          "2017",
          "2018",
          "",
          "",
          "",
          "",
          "",
          "",
          "",
          "",
          ""
         ],
         "type": "sunburst",
         "values": [
          4024,
          56364,
          16112,
          10075,
          2016,
          2017,
          10090,
          2019,
          2020,
          4024,
          6039,
          4028,
          2015,
          2016,
          12102,
          4036,
          28266,
          4024,
          4030,
          2017,
          4036,
          2013,
          2014,
          2015,
          6048,
          12102,
          6054,
          4038,
          2012,
          4028,
          4030,
          4032,
          12108,
          2019,
          4024,
          6039,
          2014,
          12090,
          8064,
          60510,
          18162,
          20190,
          2020,
          6036,
          2013,
          2014,
          2019,
          2012,
          2016,
          4036,
          2019,
          8060,
          4032,
          8068,
          6054,
          4038,
          2012,
          6042,
          4030,
          4032,
          34289,
          36324,
          10095,
          4024,
          10065,
          8056,
          2016,
          2017,
          26234,
          2012,
          2015,
          2012,
          10085,
          4024,
          8052,
          6042,
          8060,
          10085,
          2019,
          4034,
          8072,
          2019,
          2014,
          8064,
          40340,
          10090,
          2019,
          6036,
          2014,
          4032,
          14119,
          4038,
          2012,
          2014,
          2017,
          2018,
          2012,
          78468,
          44286,
          36252,
          26195,
          42336,
          4028,
          18135,
          8064,
          26221,
          12108,
          2019,
          2012,
          8052,
          12084,
          8060,
          2016,
          2017,
          4036,
          2014,
          34204,
          32208,
          46322,
          36270,
          26208,
          50425,
          38342,
          22209,
          26260,
          18108,
          32208,
          80560,
          46345,
          44352,
          62527,
          70630,
          8076,
          4040,
          138828,
          116754,
          106742,
          177320,
          157248,
          137156,
          123098,
          66627,
          18180,
          2018,
          2017,
          2018,
          2019,
          2019,
          60360,
          76494,
          66462,
          70525,
          72576,
          60510,
          72648,
          28266,
          6060,
          156936,
          148962,
          187302,
          257920,
          205632,
          252125,
          175566,
          119121,
          26260,
          4024,
          14084,
          30195,
          26182,
          16120,
          10080,
          10085,
          2018,
          4038,
          16096,
          70455,
          12084,
          36270,
          40320,
          60510,
          28252,
          12114,
          4040,
          34204,
          4026,
          4028,
          4030,
          2016,
          2018,
          98588,
          60390,
          46322,
          36270,
          36288,
          28238,
          42378,
          36342,
          6060,
          54324,
          32208,
          42294,
          40300,
          22176,
          20170,
          10090,
          4038,
          32192,
          30195,
          10070,
          18135,
          4032,
          14119,
          6054,
          2019,
          2020,
          2012,
          4024,
          56364,
          16112,
          10075,
          2016,
          2017,
          10090,
          2019,
          2020,
          4024,
          6039,
          4028,
          2015,
          2016,
          12102,
          4036,
          28266,
          82492,
          44286,
          36252,
          30225,
          42336,
          2017,
          4028,
          18135,
          8064,
          26221,
          16144,
          2019,
          2012,
          8052,
          12084,
          8060,
          2016,
          2017,
          4036,
          2014,
          34204,
          34221,
          48336,
          38285,
          32256,
          62527,
          44396,
          26247,
          26260,
          20120,
          32208,
          84588,
          50375,
          48384,
          62527,
          82738,
          10095,
          4040,
          142852,
          122793,
          108756,
          189410,
          165312,
          197666,
          141260,
          86817,
          20200,
          2018,
          6036,
          2013,
          2014,
          2017,
          2018,
          2019,
          2019,
          2012,
          2016,
          4036,
          4038,
          60360,
          76494,
          66462,
          78585,
          76608,
          68578,
          78702,
          32304,
          6060,
          158948,
          148962,
          193344,
          261950,
          209664,
          286414,
          211890,
          129216,
          26260,
          4024,
          10065,
          8056,
          2016,
          2017,
          26234,
          6036,
          14084,
          30195,
          26182,
          18135,
          10080,
          10085,
          2018,
          4038,
          18108,
          70455,
          12084,
          36270,
          40320,
          70595,
          28252,
          12114,
          4040,
          38228,
          12078,
          10070,
          12090,
          2016,
          10085,
          2018,
          2019,
          98588,
          60390,
          46322,
          36270,
          36288,
          32272,
          50450,
          38361,
          6060,
          54324,
          32208,
          44308,
          40300,
          30240,
          60510,
          20180,
          6057,
          38228,
          30195,
          12084,
          18135,
          8064,
          28238,
          6054,
          6057,
          2020,
          2012,
          2014,
          2017,
          2018,
          792728,
          777018,
          739138,
          848315,
          719712,
          939922,
          738588,
          393705,
          96960
         ]
        }
       ],
       "layout": {
        "coloraxis": {
         "colorbar": {
          "title": {
           "text": "year"
          }
         },
         "colorscale": [
          [
           0,
           "#0d0887"
          ],
          [
           0.1111111111111111,
           "#46039f"
          ],
          [
           0.2222222222222222,
           "#7201a8"
          ],
          [
           0.3333333333333333,
           "#9c179e"
          ],
          [
           0.4444444444444444,
           "#bd3786"
          ],
          [
           0.5555555555555556,
           "#d8576b"
          ],
          [
           0.6666666666666666,
           "#ed7953"
          ],
          [
           0.7777777777777778,
           "#fb9f3a"
          ],
          [
           0.8888888888888888,
           "#fdca26"
          ],
          [
           1,
           "#f0f921"
          ]
         ]
        },
        "legend": {
         "tracegroupgap": 0
        },
        "margin": {
         "t": 60
        },
        "template": {
         "data": {
          "bar": [
           {
            "error_x": {
             "color": "#2a3f5f"
            },
            "error_y": {
             "color": "#2a3f5f"
            },
            "marker": {
             "line": {
              "color": "#E5ECF6",
              "width": 0.5
             },
             "pattern": {
              "fillmode": "overlay",
              "size": 10,
              "solidity": 0.2
             }
            },
            "type": "bar"
           }
          ],
          "barpolar": [
           {
            "marker": {
             "line": {
              "color": "#E5ECF6",
              "width": 0.5
             },
             "pattern": {
              "fillmode": "overlay",
              "size": 10,
              "solidity": 0.2
             }
            },
            "type": "barpolar"
           }
          ],
          "carpet": [
           {
            "aaxis": {
             "endlinecolor": "#2a3f5f",
             "gridcolor": "white",
             "linecolor": "white",
             "minorgridcolor": "white",
             "startlinecolor": "#2a3f5f"
            },
            "baxis": {
             "endlinecolor": "#2a3f5f",
             "gridcolor": "white",
             "linecolor": "white",
             "minorgridcolor": "white",
             "startlinecolor": "#2a3f5f"
            },
            "type": "carpet"
           }
          ],
          "choropleth": [
           {
            "colorbar": {
             "outlinewidth": 0,
             "ticks": ""
            },
            "type": "choropleth"
           }
          ],
          "contour": [
           {
            "colorbar": {
             "outlinewidth": 0,
             "ticks": ""
            },
            "colorscale": [
             [
              0,
              "#0d0887"
             ],
             [
              0.1111111111111111,
              "#46039f"
             ],
             [
              0.2222222222222222,
              "#7201a8"
             ],
             [
              0.3333333333333333,
              "#9c179e"
             ],
             [
              0.4444444444444444,
              "#bd3786"
             ],
             [
              0.5555555555555556,
              "#d8576b"
             ],
             [
              0.6666666666666666,
              "#ed7953"
             ],
             [
              0.7777777777777778,
              "#fb9f3a"
             ],
             [
              0.8888888888888888,
              "#fdca26"
             ],
             [
              1,
              "#f0f921"
             ]
            ],
            "type": "contour"
           }
          ],
          "contourcarpet": [
           {
            "colorbar": {
             "outlinewidth": 0,
             "ticks": ""
            },
            "type": "contourcarpet"
           }
          ],
          "heatmap": [
           {
            "colorbar": {
             "outlinewidth": 0,
             "ticks": ""
            },
            "colorscale": [
             [
              0,
              "#0d0887"
             ],
             [
              0.1111111111111111,
              "#46039f"
             ],
             [
              0.2222222222222222,
              "#7201a8"
             ],
             [
              0.3333333333333333,
              "#9c179e"
             ],
             [
              0.4444444444444444,
              "#bd3786"
             ],
             [
              0.5555555555555556,
              "#d8576b"
             ],
             [
              0.6666666666666666,
              "#ed7953"
             ],
             [
              0.7777777777777778,
              "#fb9f3a"
             ],
             [
              0.8888888888888888,
              "#fdca26"
             ],
             [
              1,
              "#f0f921"
             ]
            ],
            "type": "heatmap"
           }
          ],
          "heatmapgl": [
           {
            "colorbar": {
             "outlinewidth": 0,
             "ticks": ""
            },
            "colorscale": [
             [
              0,
              "#0d0887"
             ],
             [
              0.1111111111111111,
              "#46039f"
             ],
             [
              0.2222222222222222,
              "#7201a8"
             ],
             [
              0.3333333333333333,
              "#9c179e"
             ],
             [
              0.4444444444444444,
              "#bd3786"
             ],
             [
              0.5555555555555556,
              "#d8576b"
             ],
             [
              0.6666666666666666,
              "#ed7953"
             ],
             [
              0.7777777777777778,
              "#fb9f3a"
             ],
             [
              0.8888888888888888,
              "#fdca26"
             ],
             [
              1,
              "#f0f921"
             ]
            ],
            "type": "heatmapgl"
           }
          ],
          "histogram": [
           {
            "marker": {
             "pattern": {
              "fillmode": "overlay",
              "size": 10,
              "solidity": 0.2
             }
            },
            "type": "histogram"
           }
          ],
          "histogram2d": [
           {
            "colorbar": {
             "outlinewidth": 0,
             "ticks": ""
            },
            "colorscale": [
             [
              0,
              "#0d0887"
             ],
             [
              0.1111111111111111,
              "#46039f"
             ],
             [
              0.2222222222222222,
              "#7201a8"
             ],
             [
              0.3333333333333333,
              "#9c179e"
             ],
             [
              0.4444444444444444,
              "#bd3786"
             ],
             [
              0.5555555555555556,
              "#d8576b"
             ],
             [
              0.6666666666666666,
              "#ed7953"
             ],
             [
              0.7777777777777778,
              "#fb9f3a"
             ],
             [
              0.8888888888888888,
              "#fdca26"
             ],
             [
              1,
              "#f0f921"
             ]
            ],
            "type": "histogram2d"
           }
          ],
          "histogram2dcontour": [
           {
            "colorbar": {
             "outlinewidth": 0,
             "ticks": ""
            },
            "colorscale": [
             [
              0,
              "#0d0887"
             ],
             [
              0.1111111111111111,
              "#46039f"
             ],
             [
              0.2222222222222222,
              "#7201a8"
             ],
             [
              0.3333333333333333,
              "#9c179e"
             ],
             [
              0.4444444444444444,
              "#bd3786"
             ],
             [
              0.5555555555555556,
              "#d8576b"
             ],
             [
              0.6666666666666666,
              "#ed7953"
             ],
             [
              0.7777777777777778,
              "#fb9f3a"
             ],
             [
              0.8888888888888888,
              "#fdca26"
             ],
             [
              1,
              "#f0f921"
             ]
            ],
            "type": "histogram2dcontour"
           }
          ],
          "mesh3d": [
           {
            "colorbar": {
             "outlinewidth": 0,
             "ticks": ""
            },
            "type": "mesh3d"
           }
          ],
          "parcoords": [
           {
            "line": {
             "colorbar": {
              "outlinewidth": 0,
              "ticks": ""
             }
            },
            "type": "parcoords"
           }
          ],
          "pie": [
           {
            "automargin": true,
            "type": "pie"
           }
          ],
          "scatter": [
           {
            "marker": {
             "colorbar": {
              "outlinewidth": 0,
              "ticks": ""
             }
            },
            "type": "scatter"
           }
          ],
          "scatter3d": [
           {
            "line": {
             "colorbar": {
              "outlinewidth": 0,
              "ticks": ""
             }
            },
            "marker": {
             "colorbar": {
              "outlinewidth": 0,
              "ticks": ""
             }
            },
            "type": "scatter3d"
           }
          ],
          "scattercarpet": [
           {
            "marker": {
             "colorbar": {
              "outlinewidth": 0,
              "ticks": ""
             }
            },
            "type": "scattercarpet"
           }
          ],
          "scattergeo": [
           {
            "marker": {
             "colorbar": {
              "outlinewidth": 0,
              "ticks": ""
             }
            },
            "type": "scattergeo"
           }
          ],
          "scattergl": [
           {
            "marker": {
             "colorbar": {
              "outlinewidth": 0,
              "ticks": ""
             }
            },
            "type": "scattergl"
           }
          ],
          "scattermapbox": [
           {
            "marker": {
             "colorbar": {
              "outlinewidth": 0,
              "ticks": ""
             }
            },
            "type": "scattermapbox"
           }
          ],
          "scatterpolar": [
           {
            "marker": {
             "colorbar": {
              "outlinewidth": 0,
              "ticks": ""
             }
            },
            "type": "scatterpolar"
           }
          ],
          "scatterpolargl": [
           {
            "marker": {
             "colorbar": {
              "outlinewidth": 0,
              "ticks": ""
             }
            },
            "type": "scatterpolargl"
           }
          ],
          "scatterternary": [
           {
            "marker": {
             "colorbar": {
              "outlinewidth": 0,
              "ticks": ""
             }
            },
            "type": "scatterternary"
           }
          ],
          "surface": [
           {
            "colorbar": {
             "outlinewidth": 0,
             "ticks": ""
            },
            "colorscale": [
             [
              0,
              "#0d0887"
             ],
             [
              0.1111111111111111,
              "#46039f"
             ],
             [
              0.2222222222222222,
              "#7201a8"
             ],
             [
              0.3333333333333333,
              "#9c179e"
             ],
             [
              0.4444444444444444,
              "#bd3786"
             ],
             [
              0.5555555555555556,
              "#d8576b"
             ],
             [
              0.6666666666666666,
              "#ed7953"
             ],
             [
              0.7777777777777778,
              "#fb9f3a"
             ],
             [
              0.8888888888888888,
              "#fdca26"
             ],
             [
              1,
              "#f0f921"
             ]
            ],
            "type": "surface"
           }
          ],
          "table": [
           {
            "cells": {
             "fill": {
              "color": "#EBF0F8"
             },
             "line": {
              "color": "white"
             }
            },
            "header": {
             "fill": {
              "color": "#C8D4E3"
             },
             "line": {
              "color": "white"
             }
            },
            "type": "table"
           }
          ]
         },
         "layout": {
          "annotationdefaults": {
           "arrowcolor": "#2a3f5f",
           "arrowhead": 0,
           "arrowwidth": 1
          },
          "autotypenumbers": "strict",
          "coloraxis": {
           "colorbar": {
            "outlinewidth": 0,
            "ticks": ""
           }
          },
          "colorscale": {
           "diverging": [
            [
             0,
             "#8e0152"
            ],
            [
             0.1,
             "#c51b7d"
            ],
            [
             0.2,
             "#de77ae"
            ],
            [
             0.3,
             "#f1b6da"
            ],
            [
             0.4,
             "#fde0ef"
            ],
            [
             0.5,
             "#f7f7f7"
            ],
            [
             0.6,
             "#e6f5d0"
            ],
            [
             0.7,
             "#b8e186"
            ],
            [
             0.8,
             "#7fbc41"
            ],
            [
             0.9,
             "#4d9221"
            ],
            [
             1,
             "#276419"
            ]
           ],
           "sequential": [
            [
             0,
             "#0d0887"
            ],
            [
             0.1111111111111111,
             "#46039f"
            ],
            [
             0.2222222222222222,
             "#7201a8"
            ],
            [
             0.3333333333333333,
             "#9c179e"
            ],
            [
             0.4444444444444444,
             "#bd3786"
            ],
            [
             0.5555555555555556,
             "#d8576b"
            ],
            [
             0.6666666666666666,
             "#ed7953"
            ],
            [
             0.7777777777777778,
             "#fb9f3a"
            ],
            [
             0.8888888888888888,
             "#fdca26"
            ],
            [
             1,
             "#f0f921"
            ]
           ],
           "sequentialminus": [
            [
             0,
             "#0d0887"
            ],
            [
             0.1111111111111111,
             "#46039f"
            ],
            [
             0.2222222222222222,
             "#7201a8"
            ],
            [
             0.3333333333333333,
             "#9c179e"
            ],
            [
             0.4444444444444444,
             "#bd3786"
            ],
            [
             0.5555555555555556,
             "#d8576b"
            ],
            [
             0.6666666666666666,
             "#ed7953"
            ],
            [
             0.7777777777777778,
             "#fb9f3a"
            ],
            [
             0.8888888888888888,
             "#fdca26"
            ],
            [
             1,
             "#f0f921"
            ]
           ]
          },
          "colorway": [
           "#636efa",
           "#EF553B",
           "#00cc96",
           "#ab63fa",
           "#FFA15A",
           "#19d3f3",
           "#FF6692",
           "#B6E880",
           "#FF97FF",
           "#FECB52"
          ],
          "font": {
           "color": "#2a3f5f"
          },
          "geo": {
           "bgcolor": "white",
           "lakecolor": "white",
           "landcolor": "#E5ECF6",
           "showlakes": true,
           "showland": true,
           "subunitcolor": "white"
          },
          "hoverlabel": {
           "align": "left"
          },
          "hovermode": "closest",
          "mapbox": {
           "style": "light"
          },
          "paper_bgcolor": "white",
          "plot_bgcolor": "#E5ECF6",
          "polar": {
           "angularaxis": {
            "gridcolor": "white",
            "linecolor": "white",
            "ticks": ""
           },
           "bgcolor": "#E5ECF6",
           "radialaxis": {
            "gridcolor": "white",
            "linecolor": "white",
            "ticks": ""
           }
          },
          "scene": {
           "xaxis": {
            "backgroundcolor": "#E5ECF6",
            "gridcolor": "white",
            "gridwidth": 2,
            "linecolor": "white",
            "showbackground": true,
            "ticks": "",
            "zerolinecolor": "white"
           },
           "yaxis": {
            "backgroundcolor": "#E5ECF6",
            "gridcolor": "white",
            "gridwidth": 2,
            "linecolor": "white",
            "showbackground": true,
            "ticks": "",
            "zerolinecolor": "white"
           },
           "zaxis": {
            "backgroundcolor": "#E5ECF6",
            "gridcolor": "white",
            "gridwidth": 2,
            "linecolor": "white",
            "showbackground": true,
            "ticks": "",
            "zerolinecolor": "white"
           }
          },
          "shapedefaults": {
           "line": {
            "color": "#2a3f5f"
           }
          },
          "ternary": {
           "aaxis": {
            "gridcolor": "white",
            "linecolor": "white",
            "ticks": ""
           },
           "baxis": {
            "gridcolor": "white",
            "linecolor": "white",
            "ticks": ""
           },
           "bgcolor": "#E5ECF6",
           "caxis": {
            "gridcolor": "white",
            "linecolor": "white",
            "ticks": ""
           }
          },
          "title": {
           "x": 0.05
          },
          "xaxis": {
           "automargin": true,
           "gridcolor": "white",
           "linecolor": "white",
           "ticks": "",
           "title": {
            "standoff": 15
           },
           "zerolinecolor": "white",
           "zerolinewidth": 2
          },
          "yaxis": {
           "automargin": true,
           "gridcolor": "white",
           "linecolor": "white",
           "ticks": "",
           "title": {
            "standoff": 15
           },
           "zerolinecolor": "white",
           "zerolinewidth": 2
          }
         }
        }
       }
      },
      "text/html": [
       "<div>                            <div id=\"7f2a17f5-ed20-47b0-ac4f-0b10f510facd\" class=\"plotly-graph-div\" style=\"height:525px; width:100%;\"></div>            <script type=\"text/javascript\">                require([\"plotly\"], function(Plotly) {                    window.PLOTLYENV=window.PLOTLYENV || {};                                    if (document.getElementById(\"7f2a17f5-ed20-47b0-ac4f-0b10f510facd\")) {                    Plotly.newPlot(                        \"7f2a17f5-ed20-47b0-ac4f-0b10f510facd\",                        [{\"branchvalues\":\"total\",\"customdata\":[[2012.0],[2013.0],[2014.0],[2015.0],[2016.0],[2017.0],[2018.0],[2019.0],[2020.0],[2012.0],[2013.0],[2014.0],[2015.0],[2016.0],[2017.0],[2018.0],[2019.0],[2012.0],[2015.0],[2017.0],[2018.0],[2013.0],[2014.0],[2015.0],[2016.0],[2017.0],[2018.0],[2019.0],[2012.0],[2014.0],[2015.0],[2016.0],[2018.0],[2019.0],[2012.0],[2013.0],[2014.0],[2015.0],[2016.0],[2017.0],[2018.0],[2019.0],[2020.0],[2012.0],[2013.0],[2014.0],[2019.0],[2012.0],[2016.0],[2018.0],[2019.0],[2015.0],[2016.0],[2017.0],[2018.0],[2019.0],[2012.0],[2014.0],[2015.0],[2016.0],[2017.0],[2018.0],[2019.0],[2012.0],[2013.0],[2014.0],[2016.0],[2017.0],[2018.0],[2012.0],[2015.0],[2012.0],[2017.0],[2012.0],[2013.0],[2014.0],[2015.0],[2017.0],[2019.0],[2017.0],[2018.0],[2019.0],[2014.0],[2016.0],[2017.0],[2018.0],[2019.0],[2012.0],[2014.0],[2016.0],[2017.0],[2019.0],[2012.0],[2014.0],[2017.0],[2018.0],[2012.0],[2012.0],[2013.0],[2014.0],[2015.0],[2016.0],[2014.0],[2015.0],[2016.0],[2017.0],[2018.0],[2019.0],[2012.0],[2013.0],[2014.0],[2015.0],[2016.0],[2017.0],[2018.0],[2014.0],[2012.0],[2013.0],[2014.0],[2015.0],[2016.0],[2017.0],[2018.0],[2019.0],[2020.0],[2012.0],[2013.0],[2014.0],[2015.0],[2016.0],[2017.0],[2018.0],[2019.0],[2020.0],[2012.0],[2013.0],[2014.0],[2015.0],[2016.0],[2017.0],[2018.0],[2019.0],[2020.0],[2018.0],[2017.0],[2018.0],[2019.0],[2019.0],[2012.0],[2013.0],[2014.0],[2015.0],[2016.0],[2017.0],[2018.0],[2019.0],[2020.0],[2012.0],[2013.0],[2014.0],[2015.0],[2016.0],[2017.0],[2018.0],[2019.0],[2020.0],[2012.0],[2012.0],[2013.0],[2014.0],[2015.0],[2016.0],[2017.0],[2018.0],[2019.0],[2012.0],[2013.0],[2014.0],[2015.0],[2016.0],[2017.0],[2018.0],[2019.0],[2020.0],[2012.0],[2013.0],[2014.0],[2015.0],[2016.0],[2018.0],[2012.0],[2013.0],[2014.0],[2015.0],[2016.0],[2017.0],[2018.0],[2019.0],[2020.0],[2012.0],[2013.0],[2014.0],[2015.0],[2016.0],[2017.0],[2018.0],[2019.0],[2012.0],[2013.0],[2014.0],[2015.0],[2016.0],[2017.0],[2018.0],[2019.0],[2020.0],[2012.0],[2012.0],[2013.0],[2014.0],[2015.0],[2016.0],[2017.0],[2018.0],[2019.0],[2020.0],[2012.0],[2013.0],[2014.0],[2015.0],[2016.0],[2017.0],[2018.0],[2019.0],[2012.0],[2013.0],[2014.0],[2015.0],[2016.0],[2017.0],[2014.0],[2015.0],[2016.0],[2017.0],[2018.0],[2019.0],[2012.0],[2013.0],[2014.0],[2015.0],[2016.0],[2017.0],[2018.0],[2014.0],[2012.0],[2013.0],[2014.0],[2015.0],[2016.0],[2017.0],[2018.0],[2019.0],[2020.0],[2012.0],[2013.0],[2014.0],[2015.0],[2016.0],[2017.0],[2018.0],[2019.0],[2020.0],[2012.0],[2013.0],[2014.0],[2015.0],[2016.0],[2017.0],[2018.0],[2019.0],[2020.0],[2018.0],[2012.0],[2013.0],[2014.0],[2017.0],[2018.0],[2019.0],[2019.0],[2012.0],[2016.0],[2018.0],[2019.0],[2012.0],[2013.0],[2014.0],[2015.0],[2016.0],[2017.0],[2018.0],[2019.0],[2020.0],[2012.0],[2013.0],[2014.0],[2015.0],[2016.0],[2017.0],[2018.0],[2019.0],[2020.0],[2012.0],[2013.0],[2014.0],[2016.0],[2017.0],[2018.0],[2012.0],[2012.0],[2013.0],[2014.0],[2015.0],[2016.0],[2017.0],[2018.0],[2019.0],[2012.0],[2013.0],[2014.0],[2015.0],[2016.0],[2017.0],[2018.0],[2019.0],[2020.0],[2012.0],[2013.0],[2014.0],[2015.0],[2016.0],[2017.0],[2018.0],[2019.0],[2012.0],[2013.0],[2014.0],[2015.0],[2016.0],[2017.0],[2018.0],[2019.0],[2020.0],[2012.0],[2013.0],[2014.0],[2015.0],[2016.0],[2017.0],[2018.0],[2019.0],[2012.0],[2013.0],[2014.0],[2015.0],[2016.0],[2017.0],[2018.0],[2019.0],[2020.0],[2012.0],[2014.0],[2017.0],[2018.0],[2012.0],[2013.0],[2014.0],[2015.0],[2016.0],[2017.0],[2018.0],[2019.0],[2020.0]],\"domain\":{\"x\":[0.0,1.0],\"y\":[0.0,1.0]},\"hovertemplate\":\"labels=%{label}<br>year_sum=%{value}<br>parent=%{parent}<br>id=%{id}<br>year=%{color}<extra></extra>\",\"ids\":[\"2012/Audi/Automatic\",\"2013/Audi/Automatic\",\"2014/Audi/Automatic\",\"2015/Audi/Automatic\",\"2016/Audi/Automatic\",\"2017/Audi/Automatic\",\"2018/Audi/Automatic\",\"2019/Audi/Automatic\",\"2020/Audi/Automatic\",\"2012/BMW/Automatic\",\"2013/BMW/Automatic\",\"2014/BMW/Automatic\",\"2015/BMW/Automatic\",\"2016/BMW/Automatic\",\"2017/BMW/Automatic\",\"2018/BMW/Automatic\",\"2019/BMW/Automatic\",\"2012/Chevrolet/Automatic\",\"2015/Chevrolet/Automatic\",\"2017/Chevrolet/Automatic\",\"2018/Datsun/Automatic\",\"2013/Ford/Automatic\",\"2014/Ford/Automatic\",\"2015/Ford/Automatic\",\"2016/Ford/Automatic\",\"2017/Ford/Automatic\",\"2018/Ford/Automatic\",\"2019/Ford/Automatic\",\"2012/Honda/Automatic\",\"2014/Honda/Automatic\",\"2015/Honda/Automatic\",\"2016/Honda/Automatic\",\"2018/Honda/Automatic\",\"2019/Honda/Automatic\",\"2012/Hyundai/Automatic\",\"2013/Hyundai/Automatic\",\"2014/Hyundai/Automatic\",\"2015/Hyundai/Automatic\",\"2016/Hyundai/Automatic\",\"2017/Hyundai/Automatic\",\"2018/Hyundai/Automatic\",\"2019/Hyundai/Automatic\",\"2020/Hyundai/Automatic\",\"2012/Jaguar/Automatic\",\"2013/Jaguar/Automatic\",\"2014/Jaguar/Automatic\",\"2019/Kia/Automatic\",\"2012/Land/Automatic\",\"2016/Land/Automatic\",\"2018/Land/Automatic\",\"2019/MG/Automatic\",\"2015/Mahindra/Automatic\",\"2016/Mahindra/Automatic\",\"2017/Mahindra/Automatic\",\"2018/Mahindra/Automatic\",\"2019/Mahindra/Automatic\",\"2012/Maruti/Automatic\",\"2014/Maruti/Automatic\",\"2015/Maruti/Automatic\",\"2016/Maruti/Automatic\",\"2017/Maruti/Automatic\",\"2018/Maruti/Automatic\",\"2019/Maruti/Automatic\",\"2012/Mercedes-Benz/Automatic\",\"2013/Mercedes-Benz/Automatic\",\"2014/Mercedes-Benz/Automatic\",\"2016/Mercedes-Benz/Automatic\",\"2017/Mercedes-Benz/Automatic\",\"2018/Mercedes-Benz/Automatic\",\"2012/Mitsubishi/Automatic\",\"2015/Nissan/Automatic\",\"2012/Renault/Automatic\",\"2017/Renault/Automatic\",\"2012/Skoda/Automatic\",\"2013/Skoda/Automatic\",\"2014/Skoda/Automatic\",\"2015/Skoda/Automatic\",\"2017/Skoda/Automatic\",\"2019/Skoda/Automatic\",\"2017/Tata/Automatic\",\"2018/Tata/Automatic\",\"2019/Tata/Automatic\",\"2014/Toyota/Automatic\",\"2016/Toyota/Automatic\",\"2017/Toyota/Automatic\",\"2018/Toyota/Automatic\",\"2019/Toyota/Automatic\",\"2012/Volkswagen/Automatic\",\"2014/Volkswagen/Automatic\",\"2016/Volkswagen/Automatic\",\"2017/Volkswagen/Automatic\",\"2019/Volkswagen/Automatic\",\"2012/Volvo/Automatic\",\"2014/Volvo/Automatic\",\"2017/Volvo/Automatic\",\"2018/Volvo/Automatic\",\"2012/Ambassador/Manual\",\"2012/Chevrolet/Manual\",\"2013/Chevrolet/Manual\",\"2014/Chevrolet/Manual\",\"2015/Chevrolet/Manual\",\"2016/Chevrolet/Manual\",\"2014/Datsun/Manual\",\"2015/Datsun/Manual\",\"2016/Datsun/Manual\",\"2017/Datsun/Manual\",\"2018/Datsun/Manual\",\"2019/Datsun/Manual\",\"2012/Fiat/Manual\",\"2013/Fiat/Manual\",\"2014/Fiat/Manual\",\"2015/Fiat/Manual\",\"2016/Fiat/Manual\",\"2017/Fiat/Manual\",\"2018/Fiat/Manual\",\"2014/Force/Manual\",\"2012/Ford/Manual\",\"2013/Ford/Manual\",\"2014/Ford/Manual\",\"2015/Ford/Manual\",\"2016/Ford/Manual\",\"2017/Ford/Manual\",\"2018/Ford/Manual\",\"2019/Ford/Manual\",\"2020/Ford/Manual\",\"2012/Honda/Manual\",\"2013/Honda/Manual\",\"2014/Honda/Manual\",\"2015/Honda/Manual\",\"2016/Honda/Manual\",\"2017/Honda/Manual\",\"2018/Honda/Manual\",\"2019/Honda/Manual\",\"2020/Honda/Manual\",\"2012/Hyundai/Manual\",\"2013/Hyundai/Manual\",\"2014/Hyundai/Manual\",\"2015/Hyundai/Manual\",\"2016/Hyundai/Manual\",\"2017/Hyundai/Manual\",\"2018/Hyundai/Manual\",\"2019/Hyundai/Manual\",\"2020/Hyundai/Manual\",\"2018/Isuzu/Manual\",\"2017/Jeep/Manual\",\"2018/Jeep/Manual\",\"2019/Jeep/Manual\",\"2019/MG/Manual\",\"2012/Mahindra/Manual\",\"2013/Mahindra/Manual\",\"2014/Mahindra/Manual\",\"2015/Mahindra/Manual\",\"2016/Mahindra/Manual\",\"2017/Mahindra/Manual\",\"2018/Mahindra/Manual\",\"2019/Mahindra/Manual\",\"2020/Mahindra/Manual\",\"2012/Maruti/Manual\",\"2013/Maruti/Manual\",\"2014/Maruti/Manual\",\"2015/Maruti/Manual\",\"2016/Maruti/Manual\",\"2017/Maruti/Manual\",\"2018/Maruti/Manual\",\"2019/Maruti/Manual\",\"2020/Maruti/Manual\",\"2012/Mitsubishi/Manual\",\"2012/Nissan/Manual\",\"2013/Nissan/Manual\",\"2014/Nissan/Manual\",\"2015/Nissan/Manual\",\"2016/Nissan/Manual\",\"2017/Nissan/Manual\",\"2018/Nissan/Manual\",\"2019/Nissan/Manual\",\"2012/Renault/Manual\",\"2013/Renault/Manual\",\"2014/Renault/Manual\",\"2015/Renault/Manual\",\"2016/Renault/Manual\",\"2017/Renault/Manual\",\"2018/Renault/Manual\",\"2019/Renault/Manual\",\"2020/Renault/Manual\",\"2012/Skoda/Manual\",\"2013/Skoda/Manual\",\"2014/Skoda/Manual\",\"2015/Skoda/Manual\",\"2016/Skoda/Manual\",\"2018/Skoda/Manual\",\"2012/Tata/Manual\",\"2013/Tata/Manual\",\"2014/Tata/Manual\",\"2015/Tata/Manual\",\"2016/Tata/Manual\",\"2017/Tata/Manual\",\"2018/Tata/Manual\",\"2019/Tata/Manual\",\"2020/Tata/Manual\",\"2012/Toyota/Manual\",\"2013/Toyota/Manual\",\"2014/Toyota/Manual\",\"2015/Toyota/Manual\",\"2016/Toyota/Manual\",\"2017/Toyota/Manual\",\"2018/Toyota/Manual\",\"2019/Toyota/Manual\",\"2012/Volkswagen/Manual\",\"2013/Volkswagen/Manual\",\"2014/Volkswagen/Manual\",\"2015/Volkswagen/Manual\",\"2016/Volkswagen/Manual\",\"2017/Volkswagen/Manual\",\"2018/Volkswagen/Manual\",\"2019/Volkswagen/Manual\",\"2020/Volkswagen/Manual\",\"2012/Ambassador\",\"2012/Audi\",\"2013/Audi\",\"2014/Audi\",\"2015/Audi\",\"2016/Audi\",\"2017/Audi\",\"2018/Audi\",\"2019/Audi\",\"2020/Audi\",\"2012/BMW\",\"2013/BMW\",\"2014/BMW\",\"2015/BMW\",\"2016/BMW\",\"2017/BMW\",\"2018/BMW\",\"2019/BMW\",\"2012/Chevrolet\",\"2013/Chevrolet\",\"2014/Chevrolet\",\"2015/Chevrolet\",\"2016/Chevrolet\",\"2017/Chevrolet\",\"2014/Datsun\",\"2015/Datsun\",\"2016/Datsun\",\"2017/Datsun\",\"2018/Datsun\",\"2019/Datsun\",\"2012/Fiat\",\"2013/Fiat\",\"2014/Fiat\",\"2015/Fiat\",\"2016/Fiat\",\"2017/Fiat\",\"2018/Fiat\",\"2014/Force\",\"2012/Ford\",\"2013/Ford\",\"2014/Ford\",\"2015/Ford\",\"2016/Ford\",\"2017/Ford\",\"2018/Ford\",\"2019/Ford\",\"2020/Ford\",\"2012/Honda\",\"2013/Honda\",\"2014/Honda\",\"2015/Honda\",\"2016/Honda\",\"2017/Honda\",\"2018/Honda\",\"2019/Honda\",\"2020/Honda\",\"2012/Hyundai\",\"2013/Hyundai\",\"2014/Hyundai\",\"2015/Hyundai\",\"2016/Hyundai\",\"2017/Hyundai\",\"2018/Hyundai\",\"2019/Hyundai\",\"2020/Hyundai\",\"2018/Isuzu\",\"2012/Jaguar\",\"2013/Jaguar\",\"2014/Jaguar\",\"2017/Jeep\",\"2018/Jeep\",\"2019/Jeep\",\"2019/Kia\",\"2012/Land\",\"2016/Land\",\"2018/Land\",\"2019/MG\",\"2012/Mahindra\",\"2013/Mahindra\",\"2014/Mahindra\",\"2015/Mahindra\",\"2016/Mahindra\",\"2017/Mahindra\",\"2018/Mahindra\",\"2019/Mahindra\",\"2020/Mahindra\",\"2012/Maruti\",\"2013/Maruti\",\"2014/Maruti\",\"2015/Maruti\",\"2016/Maruti\",\"2017/Maruti\",\"2018/Maruti\",\"2019/Maruti\",\"2020/Maruti\",\"2012/Mercedes-Benz\",\"2013/Mercedes-Benz\",\"2014/Mercedes-Benz\",\"2016/Mercedes-Benz\",\"2017/Mercedes-Benz\",\"2018/Mercedes-Benz\",\"2012/Mitsubishi\",\"2012/Nissan\",\"2013/Nissan\",\"2014/Nissan\",\"2015/Nissan\",\"2016/Nissan\",\"2017/Nissan\",\"2018/Nissan\",\"2019/Nissan\",\"2012/Renault\",\"2013/Renault\",\"2014/Renault\",\"2015/Renault\",\"2016/Renault\",\"2017/Renault\",\"2018/Renault\",\"2019/Renault\",\"2020/Renault\",\"2012/Skoda\",\"2013/Skoda\",\"2014/Skoda\",\"2015/Skoda\",\"2016/Skoda\",\"2017/Skoda\",\"2018/Skoda\",\"2019/Skoda\",\"2012/Tata\",\"2013/Tata\",\"2014/Tata\",\"2015/Tata\",\"2016/Tata\",\"2017/Tata\",\"2018/Tata\",\"2019/Tata\",\"2020/Tata\",\"2012/Toyota\",\"2013/Toyota\",\"2014/Toyota\",\"2015/Toyota\",\"2016/Toyota\",\"2017/Toyota\",\"2018/Toyota\",\"2019/Toyota\",\"2012/Volkswagen\",\"2013/Volkswagen\",\"2014/Volkswagen\",\"2015/Volkswagen\",\"2016/Volkswagen\",\"2017/Volkswagen\",\"2018/Volkswagen\",\"2019/Volkswagen\",\"2020/Volkswagen\",\"2012/Volvo\",\"2014/Volvo\",\"2017/Volvo\",\"2018/Volvo\",\"2012\",\"2013\",\"2014\",\"2015\",\"2016\",\"2017\",\"2018\",\"2019\",\"2020\"],\"labels\":[\"Automatic\",\"Automatic\",\"Automatic\",\"Automatic\",\"Automatic\",\"Automatic\",\"Automatic\",\"Automatic\",\"Automatic\",\"Automatic\",\"Automatic\",\"Automatic\",\"Automatic\",\"Automatic\",\"Automatic\",\"Automatic\",\"Automatic\",\"Automatic\",\"Automatic\",\"Automatic\",\"Automatic\",\"Automatic\",\"Automatic\",\"Automatic\",\"Automatic\",\"Automatic\",\"Automatic\",\"Automatic\",\"Automatic\",\"Automatic\",\"Automatic\",\"Automatic\",\"Automatic\",\"Automatic\",\"Automatic\",\"Automatic\",\"Automatic\",\"Automatic\",\"Automatic\",\"Automatic\",\"Automatic\",\"Automatic\",\"Automatic\",\"Automatic\",\"Automatic\",\"Automatic\",\"Automatic\",\"Automatic\",\"Automatic\",\"Automatic\",\"Automatic\",\"Automatic\",\"Automatic\",\"Automatic\",\"Automatic\",\"Automatic\",\"Automatic\",\"Automatic\",\"Automatic\",\"Automatic\",\"Automatic\",\"Automatic\",\"Automatic\",\"Automatic\",\"Automatic\",\"Automatic\",\"Automatic\",\"Automatic\",\"Automatic\",\"Automatic\",\"Automatic\",\"Automatic\",\"Automatic\",\"Automatic\",\"Automatic\",\"Automatic\",\"Automatic\",\"Automatic\",\"Automatic\",\"Automatic\",\"Automatic\",\"Automatic\",\"Automatic\",\"Automatic\",\"Automatic\",\"Automatic\",\"Automatic\",\"Automatic\",\"Automatic\",\"Automatic\",\"Automatic\",\"Automatic\",\"Automatic\",\"Automatic\",\"Automatic\",\"Automatic\",\"Manual\",\"Manual\",\"Manual\",\"Manual\",\"Manual\",\"Manual\",\"Manual\",\"Manual\",\"Manual\",\"Manual\",\"Manual\",\"Manual\",\"Manual\",\"Manual\",\"Manual\",\"Manual\",\"Manual\",\"Manual\",\"Manual\",\"Manual\",\"Manual\",\"Manual\",\"Manual\",\"Manual\",\"Manual\",\"Manual\",\"Manual\",\"Manual\",\"Manual\",\"Manual\",\"Manual\",\"Manual\",\"Manual\",\"Manual\",\"Manual\",\"Manual\",\"Manual\",\"Manual\",\"Manual\",\"Manual\",\"Manual\",\"Manual\",\"Manual\",\"Manual\",\"Manual\",\"Manual\",\"Manual\",\"Manual\",\"Manual\",\"Manual\",\"Manual\",\"Manual\",\"Manual\",\"Manual\",\"Manual\",\"Manual\",\"Manual\",\"Manual\",\"Manual\",\"Manual\",\"Manual\",\"Manual\",\"Manual\",\"Manual\",\"Manual\",\"Manual\",\"Manual\",\"Manual\",\"Manual\",\"Manual\",\"Manual\",\"Manual\",\"Manual\",\"Manual\",\"Manual\",\"Manual\",\"Manual\",\"Manual\",\"Manual\",\"Manual\",\"Manual\",\"Manual\",\"Manual\",\"Manual\",\"Manual\",\"Manual\",\"Manual\",\"Manual\",\"Manual\",\"Manual\",\"Manual\",\"Manual\",\"Manual\",\"Manual\",\"Manual\",\"Manual\",\"Manual\",\"Manual\",\"Manual\",\"Manual\",\"Manual\",\"Manual\",\"Manual\",\"Manual\",\"Manual\",\"Manual\",\"Manual\",\"Manual\",\"Manual\",\"Manual\",\"Manual\",\"Manual\",\"Manual\",\"Manual\",\"Manual\",\"Manual\",\"Manual\",\"Manual\",\"Manual\",\"Manual\",\"Ambassador\",\"Audi\",\"Audi\",\"Audi\",\"Audi\",\"Audi\",\"Audi\",\"Audi\",\"Audi\",\"Audi\",\"BMW\",\"BMW\",\"BMW\",\"BMW\",\"BMW\",\"BMW\",\"BMW\",\"BMW\",\"Chevrolet\",\"Chevrolet\",\"Chevrolet\",\"Chevrolet\",\"Chevrolet\",\"Chevrolet\",\"Datsun\",\"Datsun\",\"Datsun\",\"Datsun\",\"Datsun\",\"Datsun\",\"Fiat\",\"Fiat\",\"Fiat\",\"Fiat\",\"Fiat\",\"Fiat\",\"Fiat\",\"Force\",\"Ford\",\"Ford\",\"Ford\",\"Ford\",\"Ford\",\"Ford\",\"Ford\",\"Ford\",\"Ford\",\"Honda\",\"Honda\",\"Honda\",\"Honda\",\"Honda\",\"Honda\",\"Honda\",\"Honda\",\"Honda\",\"Hyundai\",\"Hyundai\",\"Hyundai\",\"Hyundai\",\"Hyundai\",\"Hyundai\",\"Hyundai\",\"Hyundai\",\"Hyundai\",\"Isuzu\",\"Jaguar\",\"Jaguar\",\"Jaguar\",\"Jeep\",\"Jeep\",\"Jeep\",\"Kia\",\"Land\",\"Land\",\"Land\",\"MG\",\"Mahindra\",\"Mahindra\",\"Mahindra\",\"Mahindra\",\"Mahindra\",\"Mahindra\",\"Mahindra\",\"Mahindra\",\"Mahindra\",\"Maruti\",\"Maruti\",\"Maruti\",\"Maruti\",\"Maruti\",\"Maruti\",\"Maruti\",\"Maruti\",\"Maruti\",\"Mercedes-Benz\",\"Mercedes-Benz\",\"Mercedes-Benz\",\"Mercedes-Benz\",\"Mercedes-Benz\",\"Mercedes-Benz\",\"Mitsubishi\",\"Nissan\",\"Nissan\",\"Nissan\",\"Nissan\",\"Nissan\",\"Nissan\",\"Nissan\",\"Nissan\",\"Renault\",\"Renault\",\"Renault\",\"Renault\",\"Renault\",\"Renault\",\"Renault\",\"Renault\",\"Renault\",\"Skoda\",\"Skoda\",\"Skoda\",\"Skoda\",\"Skoda\",\"Skoda\",\"Skoda\",\"Skoda\",\"Tata\",\"Tata\",\"Tata\",\"Tata\",\"Tata\",\"Tata\",\"Tata\",\"Tata\",\"Tata\",\"Toyota\",\"Toyota\",\"Toyota\",\"Toyota\",\"Toyota\",\"Toyota\",\"Toyota\",\"Toyota\",\"Volkswagen\",\"Volkswagen\",\"Volkswagen\",\"Volkswagen\",\"Volkswagen\",\"Volkswagen\",\"Volkswagen\",\"Volkswagen\",\"Volkswagen\",\"Volvo\",\"Volvo\",\"Volvo\",\"Volvo\",\"2012\",\"2013\",\"2014\",\"2015\",\"2016\",\"2017\",\"2018\",\"2019\",\"2020\"],\"marker\":{\"coloraxis\":\"coloraxis\",\"colors\":[2012.0,2013.0,2014.0,2015.0,2016.0,2017.0,2018.0,2019.0,2020.0,2012.0,2013.0,2014.0,2015.0,2016.0,2017.0,2018.0,2019.0,2012.0,2015.0,2017.0,2018.0,2013.0,2014.0,2015.0,2016.0,2017.0,2018.0,2019.0,2012.0,2014.0,2015.0,2016.0,2018.0,2019.0,2012.0,2013.0,2014.0,2015.0,2016.0,2017.0,2018.0,2019.0,2020.0,2012.0,2013.0,2014.0,2019.0,2012.0,2016.0,2018.0,2019.0,2015.0,2016.0,2017.0,2018.0,2019.0,2012.0,2014.0,2015.0,2016.0,2017.0,2018.0,2019.0,2012.0,2013.0,2014.0,2016.0,2017.0,2018.0,2012.0,2015.0,2012.0,2017.0,2012.0,2013.0,2014.0,2015.0,2017.0,2019.0,2017.0,2018.0,2019.0,2014.0,2016.0,2017.0,2018.0,2019.0,2012.0,2014.0,2016.0,2017.0,2019.0,2012.0,2014.0,2017.0,2018.0,2012.0,2012.0,2013.0,2014.0,2015.0,2016.0,2014.0,2015.0,2016.0,2017.0,2018.0,2019.0,2012.0,2013.0,2014.0,2015.0,2016.0,2017.0,2018.0,2014.0,2012.0,2013.0,2014.0,2015.0,2016.0,2017.0,2018.0,2019.0,2020.0,2012.0,2013.0,2014.0,2015.0,2016.0,2017.0,2018.0,2019.0,2020.0,2012.0,2013.0,2014.0,2015.0,2016.0,2017.0,2018.0,2019.0,2020.0,2018.0,2017.0,2018.0,2019.0,2019.0,2012.0,2013.0,2014.0,2015.0,2016.0,2017.0,2018.0,2019.0,2020.0,2012.0,2013.0,2014.0,2015.0,2016.0,2017.0,2018.0,2019.0,2020.0,2012.0,2012.0,2013.0,2014.0,2015.0,2016.0,2017.0,2018.0,2019.0,2012.0,2013.0,2014.0,2015.0,2016.0,2017.0,2018.0,2019.0,2020.0,2012.0,2013.0,2014.0,2015.0,2016.0,2018.0,2012.0,2013.0,2014.0,2015.0,2016.0,2017.0,2018.0,2019.0,2020.0,2012.0,2013.0,2014.0,2015.0,2016.0,2017.0,2018.0,2019.0,2012.0,2013.0,2014.0,2015.0,2016.0,2017.0,2018.0,2019.0,2020.0,2012.0,2012.0,2013.0,2014.0,2015.0,2016.0,2017.0,2018.0,2019.0,2020.0,2012.0,2013.0,2014.0,2015.0,2016.0,2017.0,2018.0,2019.0,2012.0,2013.0,2014.0,2015.0,2016.0,2017.0,2014.0,2015.0,2016.0,2017.0,2018.0,2019.0,2012.0,2013.0,2014.0,2015.0,2016.0,2017.0,2018.0,2014.0,2012.0,2013.0,2014.0,2015.0,2016.0,2017.0,2018.0,2019.0,2020.0,2012.0,2013.0,2014.0,2015.0,2016.0,2017.0,2018.0,2019.0,2020.0,2012.0,2013.0,2014.0,2015.0,2016.0,2017.0,2018.0,2019.0,2020.0,2018.0,2012.0,2013.0,2014.0,2017.0,2018.0,2019.0,2019.0,2012.0,2016.0,2018.0,2019.0,2012.0,2013.0,2014.0,2015.0,2016.0,2017.0,2018.0,2019.0,2020.0,2012.0,2013.0,2014.0,2015.0,2016.0,2017.0,2018.0,2019.0,2020.0,2012.0,2013.0,2014.0,2016.0,2017.0,2018.0,2012.0,2012.0,2013.0,2014.0,2015.0,2016.0,2017.0,2018.0,2019.0,2012.0,2013.0,2014.0,2015.0,2016.0,2017.0,2018.0,2019.0,2020.0,2012.0,2013.0,2014.0,2015.0,2016.0,2017.0,2018.0,2019.0,2012.0,2013.0,2014.0,2015.0,2016.0,2017.0,2018.0,2019.0,2020.0,2012.0,2013.0,2014.0,2015.0,2016.0,2017.0,2018.0,2019.0,2012.0,2013.0,2014.0,2015.0,2016.0,2017.0,2018.0,2019.0,2020.0,2012.0,2014.0,2017.0,2018.0,2012.0,2013.0,2014.0,2015.0,2016.0,2017.0,2018.0,2019.0,2020.0]},\"name\":\"\",\"parents\":[\"2012/Audi\",\"2013/Audi\",\"2014/Audi\",\"2015/Audi\",\"2016/Audi\",\"2017/Audi\",\"2018/Audi\",\"2019/Audi\",\"2020/Audi\",\"2012/BMW\",\"2013/BMW\",\"2014/BMW\",\"2015/BMW\",\"2016/BMW\",\"2017/BMW\",\"2018/BMW\",\"2019/BMW\",\"2012/Chevrolet\",\"2015/Chevrolet\",\"2017/Chevrolet\",\"2018/Datsun\",\"2013/Ford\",\"2014/Ford\",\"2015/Ford\",\"2016/Ford\",\"2017/Ford\",\"2018/Ford\",\"2019/Ford\",\"2012/Honda\",\"2014/Honda\",\"2015/Honda\",\"2016/Honda\",\"2018/Honda\",\"2019/Honda\",\"2012/Hyundai\",\"2013/Hyundai\",\"2014/Hyundai\",\"2015/Hyundai\",\"2016/Hyundai\",\"2017/Hyundai\",\"2018/Hyundai\",\"2019/Hyundai\",\"2020/Hyundai\",\"2012/Jaguar\",\"2013/Jaguar\",\"2014/Jaguar\",\"2019/Kia\",\"2012/Land\",\"2016/Land\",\"2018/Land\",\"2019/MG\",\"2015/Mahindra\",\"2016/Mahindra\",\"2017/Mahindra\",\"2018/Mahindra\",\"2019/Mahindra\",\"2012/Maruti\",\"2014/Maruti\",\"2015/Maruti\",\"2016/Maruti\",\"2017/Maruti\",\"2018/Maruti\",\"2019/Maruti\",\"2012/Mercedes-Benz\",\"2013/Mercedes-Benz\",\"2014/Mercedes-Benz\",\"2016/Mercedes-Benz\",\"2017/Mercedes-Benz\",\"2018/Mercedes-Benz\",\"2012/Mitsubishi\",\"2015/Nissan\",\"2012/Renault\",\"2017/Renault\",\"2012/Skoda\",\"2013/Skoda\",\"2014/Skoda\",\"2015/Skoda\",\"2017/Skoda\",\"2019/Skoda\",\"2017/Tata\",\"2018/Tata\",\"2019/Tata\",\"2014/Toyota\",\"2016/Toyota\",\"2017/Toyota\",\"2018/Toyota\",\"2019/Toyota\",\"2012/Volkswagen\",\"2014/Volkswagen\",\"2016/Volkswagen\",\"2017/Volkswagen\",\"2019/Volkswagen\",\"2012/Volvo\",\"2014/Volvo\",\"2017/Volvo\",\"2018/Volvo\",\"2012/Ambassador\",\"2012/Chevrolet\",\"2013/Chevrolet\",\"2014/Chevrolet\",\"2015/Chevrolet\",\"2016/Chevrolet\",\"2014/Datsun\",\"2015/Datsun\",\"2016/Datsun\",\"2017/Datsun\",\"2018/Datsun\",\"2019/Datsun\",\"2012/Fiat\",\"2013/Fiat\",\"2014/Fiat\",\"2015/Fiat\",\"2016/Fiat\",\"2017/Fiat\",\"2018/Fiat\",\"2014/Force\",\"2012/Ford\",\"2013/Ford\",\"2014/Ford\",\"2015/Ford\",\"2016/Ford\",\"2017/Ford\",\"2018/Ford\",\"2019/Ford\",\"2020/Ford\",\"2012/Honda\",\"2013/Honda\",\"2014/Honda\",\"2015/Honda\",\"2016/Honda\",\"2017/Honda\",\"2018/Honda\",\"2019/Honda\",\"2020/Honda\",\"2012/Hyundai\",\"2013/Hyundai\",\"2014/Hyundai\",\"2015/Hyundai\",\"2016/Hyundai\",\"2017/Hyundai\",\"2018/Hyundai\",\"2019/Hyundai\",\"2020/Hyundai\",\"2018/Isuzu\",\"2017/Jeep\",\"2018/Jeep\",\"2019/Jeep\",\"2019/MG\",\"2012/Mahindra\",\"2013/Mahindra\",\"2014/Mahindra\",\"2015/Mahindra\",\"2016/Mahindra\",\"2017/Mahindra\",\"2018/Mahindra\",\"2019/Mahindra\",\"2020/Mahindra\",\"2012/Maruti\",\"2013/Maruti\",\"2014/Maruti\",\"2015/Maruti\",\"2016/Maruti\",\"2017/Maruti\",\"2018/Maruti\",\"2019/Maruti\",\"2020/Maruti\",\"2012/Mitsubishi\",\"2012/Nissan\",\"2013/Nissan\",\"2014/Nissan\",\"2015/Nissan\",\"2016/Nissan\",\"2017/Nissan\",\"2018/Nissan\",\"2019/Nissan\",\"2012/Renault\",\"2013/Renault\",\"2014/Renault\",\"2015/Renault\",\"2016/Renault\",\"2017/Renault\",\"2018/Renault\",\"2019/Renault\",\"2020/Renault\",\"2012/Skoda\",\"2013/Skoda\",\"2014/Skoda\",\"2015/Skoda\",\"2016/Skoda\",\"2018/Skoda\",\"2012/Tata\",\"2013/Tata\",\"2014/Tata\",\"2015/Tata\",\"2016/Tata\",\"2017/Tata\",\"2018/Tata\",\"2019/Tata\",\"2020/Tata\",\"2012/Toyota\",\"2013/Toyota\",\"2014/Toyota\",\"2015/Toyota\",\"2016/Toyota\",\"2017/Toyota\",\"2018/Toyota\",\"2019/Toyota\",\"2012/Volkswagen\",\"2013/Volkswagen\",\"2014/Volkswagen\",\"2015/Volkswagen\",\"2016/Volkswagen\",\"2017/Volkswagen\",\"2018/Volkswagen\",\"2019/Volkswagen\",\"2020/Volkswagen\",\"2012\",\"2012\",\"2013\",\"2014\",\"2015\",\"2016\",\"2017\",\"2018\",\"2019\",\"2020\",\"2012\",\"2013\",\"2014\",\"2015\",\"2016\",\"2017\",\"2018\",\"2019\",\"2012\",\"2013\",\"2014\",\"2015\",\"2016\",\"2017\",\"2014\",\"2015\",\"2016\",\"2017\",\"2018\",\"2019\",\"2012\",\"2013\",\"2014\",\"2015\",\"2016\",\"2017\",\"2018\",\"2014\",\"2012\",\"2013\",\"2014\",\"2015\",\"2016\",\"2017\",\"2018\",\"2019\",\"2020\",\"2012\",\"2013\",\"2014\",\"2015\",\"2016\",\"2017\",\"2018\",\"2019\",\"2020\",\"2012\",\"2013\",\"2014\",\"2015\",\"2016\",\"2017\",\"2018\",\"2019\",\"2020\",\"2018\",\"2012\",\"2013\",\"2014\",\"2017\",\"2018\",\"2019\",\"2019\",\"2012\",\"2016\",\"2018\",\"2019\",\"2012\",\"2013\",\"2014\",\"2015\",\"2016\",\"2017\",\"2018\",\"2019\",\"2020\",\"2012\",\"2013\",\"2014\",\"2015\",\"2016\",\"2017\",\"2018\",\"2019\",\"2020\",\"2012\",\"2013\",\"2014\",\"2016\",\"2017\",\"2018\",\"2012\",\"2012\",\"2013\",\"2014\",\"2015\",\"2016\",\"2017\",\"2018\",\"2019\",\"2012\",\"2013\",\"2014\",\"2015\",\"2016\",\"2017\",\"2018\",\"2019\",\"2020\",\"2012\",\"2013\",\"2014\",\"2015\",\"2016\",\"2017\",\"2018\",\"2019\",\"2012\",\"2013\",\"2014\",\"2015\",\"2016\",\"2017\",\"2018\",\"2019\",\"2020\",\"2012\",\"2013\",\"2014\",\"2015\",\"2016\",\"2017\",\"2018\",\"2019\",\"2012\",\"2013\",\"2014\",\"2015\",\"2016\",\"2017\",\"2018\",\"2019\",\"2020\",\"2012\",\"2014\",\"2017\",\"2018\",\"\",\"\",\"\",\"\",\"\",\"\",\"\",\"\",\"\"],\"values\":[4024,56364,16112,10075,2016,2017,10090,2019,2020,4024,6039,4028,2015,2016,12102,4036,28266,4024,4030,2017,4036,2013,2014,2015,6048,12102,6054,4038,2012,4028,4030,4032,12108,2019,4024,6039,2014,12090,8064,60510,18162,20190,2020,6036,2013,2014,2019,2012,2016,4036,2019,8060,4032,8068,6054,4038,2012,6042,4030,4032,34289,36324,10095,4024,10065,8056,2016,2017,26234,2012,2015,2012,10085,4024,8052,6042,8060,10085,2019,4034,8072,2019,2014,8064,40340,10090,2019,6036,2014,4032,14119,4038,2012,2014,2017,2018,2012,78468,44286,36252,26195,42336,4028,18135,8064,26221,12108,2019,2012,8052,12084,8060,2016,2017,4036,2014,34204,32208,46322,36270,26208,50425,38342,22209,26260,18108,32208,80560,46345,44352,62527,70630,8076,4040,138828,116754,106742,177320,157248,137156,123098,66627,18180,2018,2017,2018,2019,2019,60360,76494,66462,70525,72576,60510,72648,28266,6060,156936,148962,187302,257920,205632,252125,175566,119121,26260,4024,14084,30195,26182,16120,10080,10085,2018,4038,16096,70455,12084,36270,40320,60510,28252,12114,4040,34204,4026,4028,4030,2016,2018,98588,60390,46322,36270,36288,28238,42378,36342,6060,54324,32208,42294,40300,22176,20170,10090,4038,32192,30195,10070,18135,4032,14119,6054,2019,2020,2012,4024,56364,16112,10075,2016,2017,10090,2019,2020,4024,6039,4028,2015,2016,12102,4036,28266,82492,44286,36252,30225,42336,2017,4028,18135,8064,26221,16144,2019,2012,8052,12084,8060,2016,2017,4036,2014,34204,34221,48336,38285,32256,62527,44396,26247,26260,20120,32208,84588,50375,48384,62527,82738,10095,4040,142852,122793,108756,189410,165312,197666,141260,86817,20200,2018,6036,2013,2014,2017,2018,2019,2019,2012,2016,4036,4038,60360,76494,66462,78585,76608,68578,78702,32304,6060,158948,148962,193344,261950,209664,286414,211890,129216,26260,4024,10065,8056,2016,2017,26234,6036,14084,30195,26182,18135,10080,10085,2018,4038,18108,70455,12084,36270,40320,70595,28252,12114,4040,38228,12078,10070,12090,2016,10085,2018,2019,98588,60390,46322,36270,36288,32272,50450,38361,6060,54324,32208,44308,40300,30240,60510,20180,6057,38228,30195,12084,18135,8064,28238,6054,6057,2020,2012,2014,2017,2018,792728,777018,739138,848315,719712,939922,738588,393705,96960],\"type\":\"sunburst\"}],                        {\"template\":{\"data\":{\"bar\":[{\"error_x\":{\"color\":\"#2a3f5f\"},\"error_y\":{\"color\":\"#2a3f5f\"},\"marker\":{\"line\":{\"color\":\"#E5ECF6\",\"width\":0.5},\"pattern\":{\"fillmode\":\"overlay\",\"size\":10,\"solidity\":0.2}},\"type\":\"bar\"}],\"barpolar\":[{\"marker\":{\"line\":{\"color\":\"#E5ECF6\",\"width\":0.5},\"pattern\":{\"fillmode\":\"overlay\",\"size\":10,\"solidity\":0.2}},\"type\":\"barpolar\"}],\"carpet\":[{\"aaxis\":{\"endlinecolor\":\"#2a3f5f\",\"gridcolor\":\"white\",\"linecolor\":\"white\",\"minorgridcolor\":\"white\",\"startlinecolor\":\"#2a3f5f\"},\"baxis\":{\"endlinecolor\":\"#2a3f5f\",\"gridcolor\":\"white\",\"linecolor\":\"white\",\"minorgridcolor\":\"white\",\"startlinecolor\":\"#2a3f5f\"},\"type\":\"carpet\"}],\"choropleth\":[{\"colorbar\":{\"outlinewidth\":0,\"ticks\":\"\"},\"type\":\"choropleth\"}],\"contour\":[{\"colorbar\":{\"outlinewidth\":0,\"ticks\":\"\"},\"colorscale\":[[0.0,\"#0d0887\"],[0.1111111111111111,\"#46039f\"],[0.2222222222222222,\"#7201a8\"],[0.3333333333333333,\"#9c179e\"],[0.4444444444444444,\"#bd3786\"],[0.5555555555555556,\"#d8576b\"],[0.6666666666666666,\"#ed7953\"],[0.7777777777777778,\"#fb9f3a\"],[0.8888888888888888,\"#fdca26\"],[1.0,\"#f0f921\"]],\"type\":\"contour\"}],\"contourcarpet\":[{\"colorbar\":{\"outlinewidth\":0,\"ticks\":\"\"},\"type\":\"contourcarpet\"}],\"heatmap\":[{\"colorbar\":{\"outlinewidth\":0,\"ticks\":\"\"},\"colorscale\":[[0.0,\"#0d0887\"],[0.1111111111111111,\"#46039f\"],[0.2222222222222222,\"#7201a8\"],[0.3333333333333333,\"#9c179e\"],[0.4444444444444444,\"#bd3786\"],[0.5555555555555556,\"#d8576b\"],[0.6666666666666666,\"#ed7953\"],[0.7777777777777778,\"#fb9f3a\"],[0.8888888888888888,\"#fdca26\"],[1.0,\"#f0f921\"]],\"type\":\"heatmap\"}],\"heatmapgl\":[{\"colorbar\":{\"outlinewidth\":0,\"ticks\":\"\"},\"colorscale\":[[0.0,\"#0d0887\"],[0.1111111111111111,\"#46039f\"],[0.2222222222222222,\"#7201a8\"],[0.3333333333333333,\"#9c179e\"],[0.4444444444444444,\"#bd3786\"],[0.5555555555555556,\"#d8576b\"],[0.6666666666666666,\"#ed7953\"],[0.7777777777777778,\"#fb9f3a\"],[0.8888888888888888,\"#fdca26\"],[1.0,\"#f0f921\"]],\"type\":\"heatmapgl\"}],\"histogram\":[{\"marker\":{\"pattern\":{\"fillmode\":\"overlay\",\"size\":10,\"solidity\":0.2}},\"type\":\"histogram\"}],\"histogram2d\":[{\"colorbar\":{\"outlinewidth\":0,\"ticks\":\"\"},\"colorscale\":[[0.0,\"#0d0887\"],[0.1111111111111111,\"#46039f\"],[0.2222222222222222,\"#7201a8\"],[0.3333333333333333,\"#9c179e\"],[0.4444444444444444,\"#bd3786\"],[0.5555555555555556,\"#d8576b\"],[0.6666666666666666,\"#ed7953\"],[0.7777777777777778,\"#fb9f3a\"],[0.8888888888888888,\"#fdca26\"],[1.0,\"#f0f921\"]],\"type\":\"histogram2d\"}],\"histogram2dcontour\":[{\"colorbar\":{\"outlinewidth\":0,\"ticks\":\"\"},\"colorscale\":[[0.0,\"#0d0887\"],[0.1111111111111111,\"#46039f\"],[0.2222222222222222,\"#7201a8\"],[0.3333333333333333,\"#9c179e\"],[0.4444444444444444,\"#bd3786\"],[0.5555555555555556,\"#d8576b\"],[0.6666666666666666,\"#ed7953\"],[0.7777777777777778,\"#fb9f3a\"],[0.8888888888888888,\"#fdca26\"],[1.0,\"#f0f921\"]],\"type\":\"histogram2dcontour\"}],\"mesh3d\":[{\"colorbar\":{\"outlinewidth\":0,\"ticks\":\"\"},\"type\":\"mesh3d\"}],\"parcoords\":[{\"line\":{\"colorbar\":{\"outlinewidth\":0,\"ticks\":\"\"}},\"type\":\"parcoords\"}],\"pie\":[{\"automargin\":true,\"type\":\"pie\"}],\"scatter\":[{\"marker\":{\"colorbar\":{\"outlinewidth\":0,\"ticks\":\"\"}},\"type\":\"scatter\"}],\"scatter3d\":[{\"line\":{\"colorbar\":{\"outlinewidth\":0,\"ticks\":\"\"}},\"marker\":{\"colorbar\":{\"outlinewidth\":0,\"ticks\":\"\"}},\"type\":\"scatter3d\"}],\"scattercarpet\":[{\"marker\":{\"colorbar\":{\"outlinewidth\":0,\"ticks\":\"\"}},\"type\":\"scattercarpet\"}],\"scattergeo\":[{\"marker\":{\"colorbar\":{\"outlinewidth\":0,\"ticks\":\"\"}},\"type\":\"scattergeo\"}],\"scattergl\":[{\"marker\":{\"colorbar\":{\"outlinewidth\":0,\"ticks\":\"\"}},\"type\":\"scattergl\"}],\"scattermapbox\":[{\"marker\":{\"colorbar\":{\"outlinewidth\":0,\"ticks\":\"\"}},\"type\":\"scattermapbox\"}],\"scatterpolar\":[{\"marker\":{\"colorbar\":{\"outlinewidth\":0,\"ticks\":\"\"}},\"type\":\"scatterpolar\"}],\"scatterpolargl\":[{\"marker\":{\"colorbar\":{\"outlinewidth\":0,\"ticks\":\"\"}},\"type\":\"scatterpolargl\"}],\"scatterternary\":[{\"marker\":{\"colorbar\":{\"outlinewidth\":0,\"ticks\":\"\"}},\"type\":\"scatterternary\"}],\"surface\":[{\"colorbar\":{\"outlinewidth\":0,\"ticks\":\"\"},\"colorscale\":[[0.0,\"#0d0887\"],[0.1111111111111111,\"#46039f\"],[0.2222222222222222,\"#7201a8\"],[0.3333333333333333,\"#9c179e\"],[0.4444444444444444,\"#bd3786\"],[0.5555555555555556,\"#d8576b\"],[0.6666666666666666,\"#ed7953\"],[0.7777777777777778,\"#fb9f3a\"],[0.8888888888888888,\"#fdca26\"],[1.0,\"#f0f921\"]],\"type\":\"surface\"}],\"table\":[{\"cells\":{\"fill\":{\"color\":\"#EBF0F8\"},\"line\":{\"color\":\"white\"}},\"header\":{\"fill\":{\"color\":\"#C8D4E3\"},\"line\":{\"color\":\"white\"}},\"type\":\"table\"}]},\"layout\":{\"annotationdefaults\":{\"arrowcolor\":\"#2a3f5f\",\"arrowhead\":0,\"arrowwidth\":1},\"autotypenumbers\":\"strict\",\"coloraxis\":{\"colorbar\":{\"outlinewidth\":0,\"ticks\":\"\"}},\"colorscale\":{\"diverging\":[[0,\"#8e0152\"],[0.1,\"#c51b7d\"],[0.2,\"#de77ae\"],[0.3,\"#f1b6da\"],[0.4,\"#fde0ef\"],[0.5,\"#f7f7f7\"],[0.6,\"#e6f5d0\"],[0.7,\"#b8e186\"],[0.8,\"#7fbc41\"],[0.9,\"#4d9221\"],[1,\"#276419\"]],\"sequential\":[[0.0,\"#0d0887\"],[0.1111111111111111,\"#46039f\"],[0.2222222222222222,\"#7201a8\"],[0.3333333333333333,\"#9c179e\"],[0.4444444444444444,\"#bd3786\"],[0.5555555555555556,\"#d8576b\"],[0.6666666666666666,\"#ed7953\"],[0.7777777777777778,\"#fb9f3a\"],[0.8888888888888888,\"#fdca26\"],[1.0,\"#f0f921\"]],\"sequentialminus\":[[0.0,\"#0d0887\"],[0.1111111111111111,\"#46039f\"],[0.2222222222222222,\"#7201a8\"],[0.3333333333333333,\"#9c179e\"],[0.4444444444444444,\"#bd3786\"],[0.5555555555555556,\"#d8576b\"],[0.6666666666666666,\"#ed7953\"],[0.7777777777777778,\"#fb9f3a\"],[0.8888888888888888,\"#fdca26\"],[1.0,\"#f0f921\"]]},\"colorway\":[\"#636efa\",\"#EF553B\",\"#00cc96\",\"#ab63fa\",\"#FFA15A\",\"#19d3f3\",\"#FF6692\",\"#B6E880\",\"#FF97FF\",\"#FECB52\"],\"font\":{\"color\":\"#2a3f5f\"},\"geo\":{\"bgcolor\":\"white\",\"lakecolor\":\"white\",\"landcolor\":\"#E5ECF6\",\"showlakes\":true,\"showland\":true,\"subunitcolor\":\"white\"},\"hoverlabel\":{\"align\":\"left\"},\"hovermode\":\"closest\",\"mapbox\":{\"style\":\"light\"},\"paper_bgcolor\":\"white\",\"plot_bgcolor\":\"#E5ECF6\",\"polar\":{\"angularaxis\":{\"gridcolor\":\"white\",\"linecolor\":\"white\",\"ticks\":\"\"},\"bgcolor\":\"#E5ECF6\",\"radialaxis\":{\"gridcolor\":\"white\",\"linecolor\":\"white\",\"ticks\":\"\"}},\"scene\":{\"xaxis\":{\"backgroundcolor\":\"#E5ECF6\",\"gridcolor\":\"white\",\"gridwidth\":2,\"linecolor\":\"white\",\"showbackground\":true,\"ticks\":\"\",\"zerolinecolor\":\"white\"},\"yaxis\":{\"backgroundcolor\":\"#E5ECF6\",\"gridcolor\":\"white\",\"gridwidth\":2,\"linecolor\":\"white\",\"showbackground\":true,\"ticks\":\"\",\"zerolinecolor\":\"white\"},\"zaxis\":{\"backgroundcolor\":\"#E5ECF6\",\"gridcolor\":\"white\",\"gridwidth\":2,\"linecolor\":\"white\",\"showbackground\":true,\"ticks\":\"\",\"zerolinecolor\":\"white\"}},\"shapedefaults\":{\"line\":{\"color\":\"#2a3f5f\"}},\"ternary\":{\"aaxis\":{\"gridcolor\":\"white\",\"linecolor\":\"white\",\"ticks\":\"\"},\"baxis\":{\"gridcolor\":\"white\",\"linecolor\":\"white\",\"ticks\":\"\"},\"bgcolor\":\"#E5ECF6\",\"caxis\":{\"gridcolor\":\"white\",\"linecolor\":\"white\",\"ticks\":\"\"}},\"title\":{\"x\":0.05},\"xaxis\":{\"automargin\":true,\"gridcolor\":\"white\",\"linecolor\":\"white\",\"ticks\":\"\",\"title\":{\"standoff\":15},\"zerolinecolor\":\"white\",\"zerolinewidth\":2},\"yaxis\":{\"automargin\":true,\"gridcolor\":\"white\",\"linecolor\":\"white\",\"ticks\":\"\",\"title\":{\"standoff\":15},\"zerolinecolor\":\"white\",\"zerolinewidth\":2}}},\"coloraxis\":{\"colorbar\":{\"title\":{\"text\":\"year\"}},\"colorscale\":[[0.0,\"#0d0887\"],[0.1111111111111111,\"#46039f\"],[0.2222222222222222,\"#7201a8\"],[0.3333333333333333,\"#9c179e\"],[0.4444444444444444,\"#bd3786\"],[0.5555555555555556,\"#d8576b\"],[0.6666666666666666,\"#ed7953\"],[0.7777777777777778,\"#fb9f3a\"],[0.8888888888888888,\"#fdca26\"],[1.0,\"#f0f921\"]]},\"legend\":{\"tracegroupgap\":0},\"margin\":{\"t\":60}},                        {\"responsive\": true}                    ).then(function(){\n",
       "                            \n",
       "var gd = document.getElementById('7f2a17f5-ed20-47b0-ac4f-0b10f510facd');\n",
       "var x = new MutationObserver(function (mutations, observer) {{\n",
       "        var display = window.getComputedStyle(gd).display;\n",
       "        if (!display || display === 'none') {{\n",
       "            console.log([gd, 'removed!']);\n",
       "            Plotly.purge(gd);\n",
       "            observer.disconnect();\n",
       "        }}\n",
       "}});\n",
       "\n",
       "// Listen for the removal of the full notebook cells\n",
       "var notebookContainer = gd.closest('#notebook-container');\n",
       "if (notebookContainer) {{\n",
       "    x.observe(notebookContainer, {childList: true});\n",
       "}}\n",
       "\n",
       "// Listen for the clearing of the current output cell\n",
       "var outputEl = gd.closest('.output');\n",
       "if (outputEl) {{\n",
       "    x.observe(outputEl, {childList: true});\n",
       "}}\n",
       "\n",
       "                        })                };                });            </script>        </div>"
      ]
     },
     "metadata": {},
     "output_type": "display_data"
    }
   ],
   "source": [
    "joint_data=df_cars.sort_values(by='year', ascending=False)\n",
    "\n",
    "top_cars=joint_data[:3000]\n",
    "fig =px.sunburst(\n",
    "    top_cars,\n",
    "    path=['year',\"make\",\"transmission\"],\n",
    "    values='year',\n",
    "    color='year')\n",
    "fig.show()"
   ]
  },
  {
   "cell_type": "markdown",
   "id": "af432030",
   "metadata": {},
   "source": [
    "# Kilometers Driven"
   ]
  },
  {
   "cell_type": "code",
   "execution_count": 53,
   "id": "25606c65",
   "metadata": {},
   "outputs": [
    {
     "data": {
      "text/plain": [
       "name             0\n",
       "year             0\n",
       "selling_price    0\n",
       "km_driven        0\n",
       "fuel             0\n",
       "seller_type      0\n",
       "transmission     0\n",
       "owner            0\n",
       "make             0\n",
       "dtype: int64"
      ]
     },
     "execution_count": 53,
     "metadata": {},
     "output_type": "execute_result"
    }
   ],
   "source": [
    "# There are no null values for km_driven in this dataset\n",
    "df_cars.loc[df_cars.km_driven.isnull() == True].count()"
   ]
  },
  {
   "cell_type": "code",
   "execution_count": 54,
   "id": "cb4c0bd8",
   "metadata": {},
   "outputs": [
    {
     "data": {
      "text/plain": [
       "count     4340.00\n",
       "mean     66215.78\n",
       "std      46644.10\n",
       "min          1.00\n",
       "25%      35000.00\n",
       "50%      60000.00\n",
       "75%      90000.00\n",
       "max     806599.00\n",
       "Name: km_driven, dtype: float64"
      ]
     },
     "execution_count": 54,
     "metadata": {},
     "output_type": "execute_result"
    }
   ],
   "source": [
    "df_cars.km_driven.describe()"
   ]
  },
  {
   "cell_type": "code",
   "execution_count": 55,
   "id": "94980f8c",
   "metadata": {},
   "outputs": [
    {
     "name": "stdout",
     "output_type": "stream",
     "text": [
      "mean =  66215.77741935484\n",
      "median =  60000.0\n",
      "mode =  0    70000\n",
      "Name: km_driven, dtype: int64\n"
     ]
    }
   ],
   "source": [
    "mean_km = df_cars.km_driven.mean()\n",
    "median_km = df_cars.km_driven.median()\n",
    "mode_km = df_cars.km_driven.mode()\n",
    "print(\"mean = \", mean_km)\n",
    "print(\"median = \", median_km)\n",
    "print(\"mode = \", mode_km)"
   ]
  },
  {
   "cell_type": "markdown",
   "id": "1444f413",
   "metadata": {},
   "source": [
    "### Spread\n",
    " - Min = 1km, Max = 806599 with a range of 806598km\n",
    " - The data is grouped more tightly in the lower range with greater spread in the upper range, as indicated by a larger gap between Q3 and the upper whisker bound compared with Q1 and the lower whisker bound\n",
    " - 110 (or ~2.5%) of all cars could be considered outliers with km driven above the upper whisker bound of 172500km\n",
    " - Mahindra's represent nearly 1/3 (27%) of all cars above the upper whisker bound compared to 8% of all cars in the dataset"
   ]
  },
  {
   "cell_type": "code",
   "execution_count": 56,
   "id": "35e35ea2",
   "metadata": {},
   "outputs": [
    {
     "name": "stdout",
     "output_type": "stream",
     "text": [
      "min =  1\n",
      "max =  806599\n",
      "range =  806598\n"
     ]
    }
   ],
   "source": [
    "min_km = df_cars.km_driven.min()\n",
    "max_km = df_cars.km_driven.max()\n",
    "range_km = max_km - min_km\n",
    "\n",
    "print(\"min = \", min_km)\n",
    "print(\"max = \", max_km)\n",
    "print(\"range = \", range_km)"
   ]
  },
  {
   "cell_type": "code",
   "execution_count": 57,
   "id": "ba1097b3",
   "metadata": {},
   "outputs": [
    {
     "data": {
      "text/plain": [
       "<AxesSubplot:xlabel='km_driven'>"
      ]
     },
     "execution_count": 57,
     "metadata": {},
     "output_type": "execute_result"
    },
    {
     "data": {
      "image/png": "[encoded data removed]",
      "text/plain": [
       "<Figure size 432x288 with 1 Axes>"
      ]
     },
     "metadata": {
      "needs_background": "light"
     },
     "output_type": "display_data"
    }
   ],
   "source": [
    "sns.boxplot(x=df_cars[\"km_driven\"])"
   ]
  },
  {
   "cell_type": "code",
   "execution_count": 58,
   "id": "2b535a14",
   "metadata": {},
   "outputs": [
    {
     "data": {
      "text/plain": [
       "<AxesSubplot:>"
      ]
     },
     "execution_count": 58,
     "metadata": {},
     "output_type": "execute_result"
    },
    {
     "data": {
      "image/png": "[encoded data removed]",
      "text/plain": [
       "<Figure size 864x432 with 1 Axes>"
      ]
     },
     "metadata": {
      "needs_background": "light"
     },
     "output_type": "display_data"
    }
   ],
   "source": [
    "df_cars.km_driven.hist(figsize=(12, 6), bins=50)"
   ]
  },
  {
   "cell_type": "code",
   "execution_count": 61,
   "id": "be0d4e6e",
   "metadata": {},
   "outputs": [
    {
     "name": "stdout",
     "output_type": "stream",
     "text": [
      "IQR =  55000.0\n",
      "3rd Quartile =  90000.0\n",
      "1st Quartile =  35000.0\n",
      "lower km bound =  -47500.0\n",
      "upper km bound =  172500.0\n"
     ]
    }
   ],
   "source": [
    "q3_km = np.quantile(df_cars.km_driven, 0.75)\n",
    "q1_km = np.quantile(df_cars.km_driven, 0.25)\n",
    "iqr_km = q3_km - q1_km\n",
    "\n",
    "lowerWB = q1_km - 1.5 * iqr_km\n",
    "upperWB = q3_km + 1.5 * iqr_km\n",
    "print(\"IQR = \", iqr_km)\n",
    "print(\"3rd Quartile = \", q3_km)\n",
    "print(\"1st Quartile = \", q1_km)\n",
    "print(\"lower km bound = \", lowerWB)\n",
    "print(\"upper km bound = \", upperWB)"
   ]
  },
  {
   "cell_type": "code",
   "execution_count": 60,
   "id": "3d1bef0d",
   "metadata": {},
   "outputs": [
    {
     "name": "stdout",
     "output_type": "stream",
     "text": [
      "# cars above uwb =  110\n",
      "percentage of outliers =  0.02534562211981567\n",
      "\n",
      "Total # Mahindra =  365\n",
      "0.08410138248847926\n",
      "\n",
      "# Mahindra in outlisers =  30\n",
      "0.2727272727272727\n"
     ]
    }
   ],
   "source": [
    "outliers = df_cars.km_driven.loc[df_cars.km_driven > upperWB]\n",
    "print(\"# cars above uwb = \", outliers.count())\n",
    "print(\"percentage of outliers = \", 110/4340)\n",
    "print()\n",
    "\n",
    "outliers = df_cars.loc[df_cars.km_driven > upperWB]\n",
    "mahindra = df_cars.loc[df_cars.make == \"Mahindra\"]\n",
    "print(\"Total # Mahindra = \", mahindra.shape[0])\n",
    "print(mahindra.shape[0]/4340)\n",
    "print()\n",
    "\n",
    "mahindra_in_outliers = outliers.loc[df_cars.make == \"Mahindra\"]\n",
    "print(\"# Mahindra in outlisers = \", mahindra_in_outliers.shape[0])\n",
    "print(mahindra_in_outliers.shape[0]/110)"
   ]
  },
  {
   "cell_type": "markdown",
   "id": "9ed14a2a",
   "metadata": {},
   "source": [
    "### Boxplot - with outliers removed"
   ]
  },
  {
   "cell_type": "code",
   "execution_count": 62,
   "id": "ca8fb624",
   "metadata": {},
   "outputs": [
    {
     "data": {
      "text/plain": [
       "<AxesSubplot:xlabel='km_driven'>"
      ]
     },
     "execution_count": 62,
     "metadata": {},
     "output_type": "execute_result"
    },
    {
     "data": {
      "image/png": "[encoded data removed]",
      "text/plain": [
       "<Figure size 432x288 with 1 Axes>"
      ]
     },
     "metadata": {
      "needs_background": "light"
     },
     "output_type": "display_data"
    }
   ],
   "source": [
    "km_no_outliers = df_cars.km_driven.loc[df_cars.km_driven < 200000]\n",
    "sns.boxplot(km_no_outliers)"
   ]
  },
  {
   "cell_type": "markdown",
   "id": "c3dc2ea5",
   "metadata": {},
   "source": [
    "### Modality & Clusters\n",
    " - As discussed above, 50% of the data is grouped between 35000-90000km as indicated by the 1st and 3rd quartiles.\n",
    " - When extreme values are filtered from the dataset, it demonstrates a fairly unimodal distribution."
   ]
  },
  {
   "cell_type": "code",
   "execution_count": 63,
   "id": "65148f5d",
   "metadata": {},
   "outputs": [
    {
     "data": {
      "text/plain": [
       "<AxesSubplot:>"
      ]
     },
     "execution_count": 63,
     "metadata": {},
     "output_type": "execute_result"
    },
    {
     "data": {
      "image/png": "[encoded data removed]",
      "text/plain": [
       "<Figure size 864x432 with 1 Axes>"
      ]
     },
     "metadata": {
      "needs_background": "light"
     },
     "output_type": "display_data"
    }
   ],
   "source": [
    "km_no_outliers.hist(figsize=(12, 6), bins=20)"
   ]
  },
  {
   "cell_type": "markdown",
   "id": "a9aafbc1",
   "metadata": {},
   "source": [
    "### Additional Analysis\n",
    " - With km driven separated by car make, we see that some car types (Ex. Datsun and Jeep) have a lower average km driven with much less spread. Mitsubishis, on the other hand, have a much higher km_driven on average than the rest of the data set. "
   ]
  },
  {
   "cell_type": "code",
   "execution_count": 64,
   "id": "a7e6e52f",
   "metadata": {},
   "outputs": [
    {
     "data": {
      "text/plain": [
       "Index(['name', 'year', 'selling_price', 'km_driven', 'fuel', 'seller_type',\n",
       "       'transmission', 'owner', 'make'],\n",
       "      dtype='object')"
      ]
     },
     "execution_count": 64,
     "metadata": {},
     "output_type": "execute_result"
    }
   ],
   "source": [
    "df_km = df_cars.loc[df_cars.km_driven < 200000]\n",
    "df_km.columns"
   ]
  },
  {
   "cell_type": "code",
   "execution_count": 65,
   "id": "be518e25",
   "metadata": {
    "scrolled": true
   },
   "outputs": [
    {
     "data": {
      "text/plain": [
       "<seaborn.axisgrid.FacetGrid at 0x22f12dfe8e0>"
      ]
     },
     "execution_count": 65,
     "metadata": {},
     "output_type": "execute_result"
    },
    {
     "data": {
      "image/png": "[encoded data removed]",
      "text/plain": [
       "<Figure size 1152x288 with 1 Axes>"
      ]
     },
     "metadata": {
      "needs_background": "light"
     },
     "output_type": "display_data"
    }
   ],
   "source": [
    "plot = sns.catplot(data=df_km, x='make', y='km_driven', kind=\"box\", height=4, aspect=4.0)\n",
    "plot.set_xticklabels(rotation=45)\n",
    "plot\n",
    "\n",
    "#with sns.axes_style(\"whitegrid\"):\n",
    "    #sns.catplot(data=df_km, x='make', y='km_driven', kind=\"box\", height=4, aspect=4.0)"
   ]
  },
  {
   "cell_type": "code",
   "execution_count": 5,
   "id": "c2248653",
   "metadata": {},
   "outputs": [],
   "source": [
    "import pandas as pd\n",
    "import numpy as np \n",
    "import matplotlib.pyplot as plt\n",
    "import seaborn as sns\n",
    "import warnings\n",
    "warnings.filterwarnings('ignore')\n",
    "import plotly.express as px"
   ]
  },
  {
   "cell_type": "code",
   "execution_count": 17,
   "id": "93f25900",
   "metadata": {},
   "outputs": [
    {
     "data": {
      "text/plain": [
       "Maruti           1280\n",
       "Hyundai           821\n",
       "Mahindra          365\n",
       "Tata              361\n",
       "Honda             252\n",
       "Ford              238\n",
       "Toyota            206\n",
       "Chevrolet         188\n",
       "Renault           146\n",
       "Volkswagen        107\n",
       "Skoda              68\n",
       "Nissan             64\n",
       "Audi               60\n",
       "BMW                39\n",
       "Fiat               37\n",
       "Datsun             37\n",
       "Mercedes-Benz      35\n",
       "Jaguar              6\n",
       "Mitsubishi          6\n",
       "Land                5\n",
       "Volvo               4\n",
       "Ambassador          4\n",
       "Jeep                3\n",
       "MG                  2\n",
       "OpelCorsa           2\n",
       "Daewoo              1\n",
       "Force               1\n",
       "Isuzu               1\n",
       "Kia                 1\n",
       "Name: make, dtype: int64"
      ]
     },
     "execution_count": 17,
     "metadata": {},
     "output_type": "execute_result"
    }
   ],
   "source": [
    "df_cars.make.value_counts()"
   ]
  },
  {
   "cell_type": "code",
   "execution_count": 16,
   "id": "2b872115",
   "metadata": {},
   "outputs": [
    {
     "name": "stdout",
     "output_type": "stream",
     "text": [
      "From the graph, we can see that the most common car brand is Maruti, and the least commons are: Daewoo, Force, Isuzu, and Kia. These cars are mostly foreigns car, so it might not be common in the US.\n"
     ]
    },
    {
     "data": {
      "image/png": "[encoded data removed]",
      "text/plain": [
       "<Figure size 432x288 with 1 Axes>"
      ]
     },
     "metadata": {
      "needs_background": "light"
     },
     "output_type": "display_data"
    }
   ],
   "source": [
    "# Highest count of car's brand\n",
    "sns.countplot(data=df_cars,x=\"make\")\n",
    "plt.xticks(rotation = 90)\n",
    "plt.xlabel(\"Car brands\")\n",
    "print(\"From the graph, we can see that the most common car brand is Maruti, and the least commons are: Daewoo, Force, Isuzu, and Kia. These cars are mostly foreigns car, so it might not be common in the US.\")"
   ]
  },
  {
   "cell_type": "code",
   "execution_count": 14,
   "id": "35d9ccaa",
   "metadata": {},
   "outputs": [
    {
     "data": {
      "image/png": "[encoded data removed]",
      "text/plain": [
       "<Figure size 576x576 with 1 Axes>"
      ]
     },
     "metadata": {},
     "output_type": "display_data"
    },
    {
     "name": "stdout",
     "output_type": "stream",
     "text": [
      "\n",
      "The pie chart showed us that First owner cars make up the largest share, accounting for 65.3% of the market. second owner occupied 25.5%, the Third Owner and rest are less than 10%\n"
     ]
    }
   ],
   "source": [
    "label = df_cars[\"owner\"].value_counts().index\n",
    "size = df_cars[\"owner\"].value_counts()\n",
    "color = ['silver', 'pink', 'steelblue','#CCCCFF','#DE3163']\n",
    "\n",
    "plt.figure(figsize = (8,8))\n",
    "plt.pie(size, labels=label, rotatelabels=False, autopct='%1.01f%%',explode=explode,colors=color,shadow=False, startangle=905)\n",
    "plt.title('owner',fontdict={'size':15, 'weight':'bold', 'color':'#6495ED'})\n",
    "plt.show()\n",
    "\n",
    "print()\n",
    "print(\"The pie chart showed us that First owner cars make up the largest share, accounting for 65.3% of the market. second owner occupied 25.5%, the Third Owner and rest are less than 10%\")"
   ]
  }
 ],
 "metadata": {
  "kernelspec": {
   "display_name": "Python 3 (ipykernel)",
   "language": "python",
   "name": "python3"
  },
  "language_info": {
   "codemirror_mode": {
    "name": "ipython",
    "version": 3
   },
   "file_extension": ".py",
   "mimetype": "text/x-python",
   "name": "python",
   "nbconvert_exporter": "python",
   "pygments_lexer": "ipython3",
   "version": "3.9.12"
  }
 },
 "nbformat": 4,
 "nbformat_minor": 5
}
